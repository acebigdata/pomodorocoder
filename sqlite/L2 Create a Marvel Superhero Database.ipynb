{
 "cells": [
  {
   "cell_type": "code",
   "execution_count": 37,
   "metadata": {
    "collapsed": true
   },
   "outputs": [],
   "source": [
    "import sqlite3\n",
    "import sys\n",
    "import numpy as np\n",
    "import pandas as pd"
   ]
  },
  {
   "cell_type": "code",
   "execution_count": 38,
   "metadata": {
    "collapsed": false
   },
   "outputs": [
    {
     "name": "stdout",
     "output_type": "stream",
     "text": [
      "Database Connection Established\n"
     ]
    }
   ],
   "source": [
    "## Create database of heros\n",
    "super_conn = sqlite3.connect('super.db')\n",
    "print (\"Database Connection Established\")"
   ]
  },
  {
   "cell_type": "code",
   "execution_count": 39,
   "metadata": {
    "collapsed": false
   },
   "outputs": [
    {
     "name": "stdout",
     "output_type": "stream",
     "text": [
      "Reset Finished: Old Tables Deleted\n"
     ]
    }
   ],
   "source": [
    "# Drop/Delete a table\n",
    "super_conn.execute(\"DROP TABLE IF EXISTS general_power\")\n",
    "super_conn.execute(\"DROP TABLE IF EXISTS identity\")\n",
    "super_conn.execute(\"DROP TABLE IF EXISTS power_table\")\n",
    "super_conn.execute(\"DROP TABLE IF EXISTS superhuman\")\n",
    "super_conn.commit()\n",
    "print(\"Reset Finished: Old Tables Deleted\")"
   ]
  },
  {
   "cell_type": "code",
   "execution_count": 40,
   "metadata": {
    "collapsed": true
   },
   "outputs": [],
   "source": [
    "# Create cursor to traverse the results of the database\n",
    "my_cur = super_conn.cursor()"
   ]
  },
  {
   "cell_type": "code",
   "execution_count": 41,
   "metadata": {
    "collapsed": false
   },
   "outputs": [
    {
     "name": "stdout",
     "output_type": "stream",
     "text": [
      "general_power Table Created\n"
     ]
    }
   ],
   "source": [
    "## Create the general power table\n",
    "try:\n",
    "    super_conn.execute(\"CREATE TABLE general_power(ID INTEGER PRIMARY KEY AUTOINCREMENT NOT NULL, power_type TEXT, general_powerdesc TEXT)\")\n",
    "    super_conn.commit()\n",
    "    print(\"general_power Table Created\")\n",
    "\n",
    "except sqlite3.OperationalError:\n",
    "    print(\"general_power Table Couldn't Be Created\")"
   ]
  },
  {
   "cell_type": "code",
   "execution_count": 42,
   "metadata": {
    "collapsed": false
   },
   "outputs": [
    {
     "name": "stdout",
     "output_type": "stream",
     "text": [
      "identity Table Created\n"
     ]
    }
   ],
   "source": [
    "## Create identity table\n",
    "try:\n",
    "    super_conn.execute(\"CREATE TABLE identity(ID INTEGER PRIMARY KEY AUTOINCREMENT NOT NULL, secret_id TEXT, character TEXT)\")\n",
    "    super_conn.commit()\n",
    "    print(\"identity Table Created\")\n",
    "\n",
    "except sqlite3.OperationalError:\n",
    "    print(\"identity Table Couldn't Be Created\")"
   ]
  },
  {
   "cell_type": "code",
   "execution_count": 43,
   "metadata": {
    "collapsed": false
   },
   "outputs": [
    {
     "name": "stdout",
     "output_type": "stream",
     "text": [
      "power_table Table Created\n"
     ]
    }
   ],
   "source": [
    "## Create power_table table\n",
    "try:\n",
    "    super_conn.execute(\"CREATE TABLE power_table(ID INTEGER PRIMARY KEY AUTOINCREMENT NOT NULL, power_type_id INTEGER, power_desc TEXT, foreign key (power_type_id) references general_power(ID))\")\n",
    "    super_conn.commit()\n",
    "    print(\"power_table Table Created\")\n",
    "\n",
    "except sqlite3.OperationalError:\n",
    "    print(\"power_table Table Couldn't Be Created\")"
   ]
  },
  {
   "cell_type": "code",
   "execution_count": 44,
   "metadata": {
    "collapsed": false
   },
   "outputs": [
    {
     "name": "stdout",
     "output_type": "stream",
     "text": [
      "superhuman Table Created\n"
     ]
    }
   ],
   "source": [
    "# Create superhuman table\n",
    "try:\n",
    "    super_conn.execute(\"CREATE TABLE superhuman(identity_id INTEGER, power_id_1 INTEGER, power_id_2 INTEGER, power_id_3 INTEGER, foreign key (identity_id) references identity(ID))\")\n",
    "    super_conn.commit()\n",
    "    print(\"superhuman Table Created\")\n",
    "\n",
    "except sqlite3.OperationalError:\n",
    "    print(\"superhuman Table Couldn't Be Created\")"
   ]
  },
  {
   "cell_type": "code",
   "execution_count": 45,
   "metadata": {
    "collapsed": true
   },
   "outputs": [],
   "source": [
    "general_power = [[\"Power augmentation\", \"Ability to enhance or weaken the powers of others\"],\n",
    "\t\t\t[\"Power bestowal\", \"Ability to bestow powers or jump-start latent powers\"],\n",
    "\t\t\t[\"Power mimicry or absorption\", \"Ability to copy or absorb another''s powers or skills\"],\n",
    "\t\t\t[\"Power negation\", \"Ability to cancel the superpowers of others\"],\n",
    "\t\t\t[\"Power sensing\", \"Ability to sense or recognize superhuman powers\"],\n",
    "\t\t\t[\"Healing factor\", \"Ability to heal rapidly and with greater finality from any injury\"],\n",
    "\t\t\t[\"Acid generation\", \"Ability to generate acid, can be manifested through touch or as a spray\"],\n",
    "\t\t\t[\"Animal mimicry\", \"Ability to take on the abilities of certain animals\"],\n",
    "\t\t\t[\"Biological manipulation\", \"Ability to control all aspects of a living creature''s biological make-up\"],\n",
    "\t\t\t[\"Body part substitution\", \"Ability to replace one''s limbs or other body parts with those of another\"],\n",
    "\t\t\t[\"Bone manipulation\", \"Ability to manipulate the bones in one''s own body\"],\n",
    "\t\t\t[\"Duplication (physical)\", \"Ability to create physical duplicates of oneself\"],\n",
    "\t\t\t[\"Duplication (temporal)\", \"Ability to bring past and future versions of oneself back to the present\"],\n",
    "\t\t\t[\"Echolocation\", \"Ability to determine location of objects in the environment by use of reflected sound waves\"],\n",
    "\t\t\t[\"Firebreathing\", \"Ability generate gases from the body and exhale fire from the mouth\"],\n",
    "\t\t\t[\"Invisibility\", \"Ability to render the user unseen to the naked eye\"],\n",
    "\t\t\t[\"Invulnerability\", \"Ability to be immune to one or more forms of physical, mental, and spiritual damage and influence\"],\n",
    "\t\t\t[\"Kinetic absorption\", \"Ability to absorb forms of kinetic energy into oneself and utilize it in some way, such as by converting it into physical strength or using it to power energy blasts\"],\n",
    "\t\t\t[\"Superhuman longevity\", \"Ability to live longer than a normal human\"],\n",
    "\t\t\t[\"Matter Ingestion\", \"Ability to consume any sort of matter without any ill effects on the user\"],\n",
    "\t\t\t[\"Merging\", \"Ability to temporarily merge two or more beings into a single being, which results in a completely new and stronger being\"],\n",
    "\t\t\t[\"Pheromone manipulation\", \"Ability to generate and control pheromones which may have various effects\"],\n",
    "\t\t\t[\"Poison generation\", \"Ability to assault others with one or more varieties of toxins, with widely disparate effects\"],\n",
    "\t\t\t[\"Prehensile / animated hair\", \"Ability to animate and lengthen one''s hair\"],\n",
    "\t\t\t[\"Reactive adaptation / evolution\", \"Ability to develop a resistance or immunity to whatever they were injured by or exposed to\"],\n",
    "\t\t\t[\"Self-detonation / reformation\", \"Ability to explode one''s body mass and reform\"],\n",
    "\t\t\t[\"Sonic scream\", \"Ability to generate vocal sounds of a higher amplitude than a normal human\"],\n",
    "\t\t\t[\"Vortex breath\", \"Ability to inhale/exhale with superhumanly powerful strength\"],\n",
    "\t\t\t[\"Superhuman endurance\", \"Ability to have a higher resistance to one or more forms of damage before being injured as well as the ability to exert ones self in an activity indefinitely without becoming tired\"],\n",
    "\t\t\t[\"Superhuman agility\", \"Ability to react faster than a normal human and to possess greater flexibility and with higher/farther jumping capacity\"],\n",
    "\t\t\t[\"Superhuman senses\", \"Ability to see, smell, taste, feel and/or hear more than a normal Human\"],\n",
    "\t\t\t[\"Superhuman strength\", \"Ability to have a level of strength much higher than normally possible given their proportions\"],\n",
    "\t\t\t[\"Night vision\", \"The ability to see clearly in total darkness\"],\n",
    "\t\t\t[\"X-ray vision\", \"Ability to see through solid matter\"],\n",
    "\t\t\t[\"Heat vision\", \"Ability to burn objects and other individuals with one''s gaze\"],\n",
    "\t\t\t[\"Telescopic vision\", \"Ability to magnify and extend one''s vision to various levels\"],\n",
    "\t\t\t[\"Freeze vision\", \"Ability to freeze objects and other individuals with one''s gaze\"],\n",
    "\t\t\t[\"Wallcrawling\", \"Ability to adhere to solid surfaces, including walls and ceilings\"],\n",
    "\t\t\t[\"Waterbreathing\", \"Ability to respirate through water in lieu of a gaseous medium\"],\n",
    "\t\t\t[\"Ecological empathy\", \"The ability to sense the overall well-being and conditions of one''s immediate environment and natural setting stemming from a psychic sensitivity to nature\"],\n",
    "\t\t\t[\"Innate capability\", \"Ability to naturally have skills and/or knowledge typically earned through learning\"],\n",
    "\t\t\t[\"Omni-linguism\", \"Ability to understand any form of language\"],\n",
    "\t\t\t[\"Omniscience\", \"Ability to know anything and everything\"],\n",
    "\t\t\t[\"Superhuman mentality\", \"Ability to have intelligence quotient far above that of a genius level\"],\n",
    "\t\t\t[\"Superhuman tracking\", \"Ability to track an individual or object through supernatural means\"],\n",
    "\t\t\t[\"Astral projection\", \"This is the ability to separate and control one''s astral body\"],\n",
    "\t\t\t[\"Cross-dimensional awareness\", \"Ability to detect actions and events in other dimensions\"],\n",
    "\t\t\t[\"Empathy\", \"Ability to read or sense the emotions and/or control the emotions or feelings of others\"],\n",
    "\t\t\t[\"Mediumship\", \"Ability to see and communicate with the dead\"],\n",
    "\t\t\t[\"Precognition\", \"Ability to perceive the future\"],\n",
    "\t\t\t[\"Psychometry\", \"Ability to relate details about the past or future condition of an object or location\"],\n",
    "\t\t\t[\"Telepathy\", \"Ability to read the thoughts of, or to mentally communicate with others\"],\n",
    "\t\t\t[\"Technopathy\", \"Electrical/telekinetic manipulation that allows for a mental interface to manipulate technology\"],\n",
    "\t\t\t[\"Astral trapping\", \"Ability to cause an astral projection to stay on the astral plane\"],\n",
    "\t\t\t[\"Memory manipulation\", \"Ability to erase or enhance the memories of another\"],\n",
    "\t\t\t[\"Mind control\", \"The ability to alter the perceptions of others, and general ability to control the actions of others with the mind\"],\n",
    "\t\t\t[\"Possession\", \"Ability to take control and inhabit the body of an individual\"],\n",
    "\t\t\t[\"Psionic blast\", \"Ability to overload another''s mind causing pain, memory loss, lack of consciousness, vegetative state or death\"],\n",
    "\t\t\t[\"Psychic weapons\", \"Ability to create a weapon of psychic energy that can harm mentally and not physically\"],\n",
    "\t\t\t[\"Animation\", \"Ability to bring inanimate objects to life or to free an individual from petrification\"],\n",
    "\t\t\t[\"Darkness or shadow manipulation\", \"Ability to create or manipulate darkness\"],\n",
    "\t\t\t[\"Density control\", \"Ability to increase or decrease the natural density of an object and/or one''s self\"],\n",
    "\t\t\t[\"Disintegration\", \"Ability to disintegrate matter through touch or through beams\"],\n",
    "\t\t\t[\"Elemental transmutation\", \"The ability to alter chemical elements, changing them from one substance to another by rearranging the atomic structure\"],\n",
    "\t\t\t[\"Gravity manipulation\", \"Ability to manipulate or generate gravitons\"],\n",
    "\t\t\t[\"Immortality\", \"Ability to live forever. This may be complete immortality encompassing invulnerability, partial invulnerability to all but specific events \"],\n",
    "\t\t\t[\"Intangibility or phasing\", \"Ability to quantum tunnel through solid matter without harm\"],\n",
    "\t\t\t[\"Light manipulation\", \"Ability to control, generate or absorb light particles\"],\n",
    "\t\t\t[\"Magnetism manipulation\", \"Ability to control and/or generate magnetic fields\"],\n",
    "\t\t\t[\"Mass manipulation\", \"Ability to increase or decrease mass in an object\"],\n",
    "\t\t\t[\"Microwave manipulation\", \"The ability to convert ambient electromagnetic energy into microwaves and manipulate it into various effects such as heat, light, and radiation\"],\n",
    "\t\t\t[\"Molecular manipulation\", \"Ability to mentally manipulate the molecules of objects and/or one''s self on a molecular level\"],\n",
    "\t\t\t[\"Probability manipulation\", \"Ability to alter probability, causing unlikely things to happen, or likely things not to happen\"],\n",
    "\t\t\t[\"Radiation manipulation\", \"Ability to generate, manipulate or have immunity to toxic radiation\"],\n",
    "\t\t\t[\"Reality warping\", \"Ability to change or manipulate reality itself\"],\n",
    "\t\t\t[\"Resurrection\", \"Ability to come back to life after being killed as well as to bring others back to life\"],\n",
    "\t\t\t[\"Sound manipulation\", \"Ability to manipulate sound\"],\n",
    "\t\t\t[\"Time manipulation\", \"Ability to affect the flow of time by slowing, accelerating, reversing, or stopping it\"],\n",
    "\t\t\t[\"Air and wind manipulation\", \"Ability to control, generate, or absorb air or wind\"],\n",
    "\t\t\t[\"Animal control\", \"Ability to communicate with animals, birds and even aquatic creatures and get them to perform tasks on command\"],\n",
    "\t\t\t[\"Cold and ice manipulation\", \"Ability to reduce the kinetic energy of atoms and thus reduce temperature, can be used to control, generate, or absorb ice\"],\n",
    "\t\t\t[\"Earth manipulation\", \"Ability to control earth; sand, stone, rock, lava, dirt, or other minerals\"],\n",
    "\t\t\t[\"Electric manipulation\", \"Ability to control, generate or absorb electric fields\"],\n",
    "\t\t\t[\"Fire and heat manipulation\", \"Ability to control the kinetic energy of atoms to generate, control or absorb fire\"],\n",
    "\t\t\t[\"Plant manipulation\", \"Ability to create, control, manipulate or animate plant life\"],\n",
    "\t\t\t[\"Water and moisture manipulation\", \"Ability to control, generate or absorb water\"],\n",
    "\t\t\t[\"Weather manipulation\", \"Ability to control or mentally affect the weather\"],\n",
    "\t\t\t[\"Concussion beams\", \"Ability to generate or transform various forms of energy into a solid or concussive beam of energy\"],\n",
    "\t\t\t[\"Energy blasts\", \"Ability to expel various forms of energy from the body\"],\n",
    "\t\t\t[\"Energy constructs\", \"Ability to create complex shapes such as giant boxing gloves or cages or even functional machinery such as fire extinguishers or laser rifles out of solid energy\"],\n",
    "\t\t\t[\"Energy conversion\", \"Ability to absorb one form of energy and convert it into another form of energy\"],\n",
    "\t\t\t[\"Force field generation\", \"Ability to project powerful fields of manipulated energy\"],\n",
    "\t\t\t[\"Electrical transportation\", \"Ability to travel through electrical conduits such as power lines or telephone lines\"],\n",
    "\t\t\t[\"Omnipresence\", \"Ability to be present anywhere and everywhere simultaneously\"],\n",
    "\t\t\t[\"Dimensional travel\", \"Ability to travel between two or more dimensions, realities, realms\"],\n",
    "\t\t\t[\"Portal creation\", \"Ability to create wormholes, portation discs or other spatial portals for transport\"],\n",
    "\t\t\t[\"Summoning\", \"Ability to summon beings or objects for assistance\"],\n",
    "\t\t\t[\"Superhuman speed\", \"The ability to move, run, fly, react, think, and sense at speeds much faster than a normal human\"],\n",
    "\t\t\t[\"Teleportation\", \"Ability to move from one place to another without occupying the space in between\"],\n",
    "\t\t\t[\"Time travel\", \"Ability to travel back or forth through time\"],\n",
    "\t\t\t[\"Flight\", \"Ability to fly\"],\n",
    "\t\t\t[\"Animal morphing\", \"Ability to take on animal forms\"],\n",
    "\t\t\t[\"Elasticity\", \"Ability to stretch, deform, expand or contract one''s body into any form imaginable\"],\n",
    "\t\t\t[\"Inorganic\", \"Ability to transform completely into an inorganic substance while retaining organic properties\"],\n",
    "\t\t\t[\"Liquification\", \"Ability to turn partially or completely into a liquid\"],\n",
    "\t\t\t[\"Size shifting\", \"Ability to increase or decrease one''s size\"],\n",
    "\t\t\t[\"Sublimation\", \"Ability to transform into a gaseous, mist, or fog-like form\"],\n",
    "\t\t\t[\"Substance mimicry\", \"Ability to transform into any substance touched\"]];"
   ]
  },
  {
   "cell_type": "code",
   "execution_count": 46,
   "metadata": {
    "collapsed": false
   },
   "outputs": [
    {
     "data": {
      "text/plain": [
       "[['Acid generation',\n",
       "  'Ability to generate acid, can be manifested through touch or as a spray'],\n",
       " ['Air and wind manipulation',\n",
       "  'Ability to control, generate, or absorb air or wind'],\n",
       " ['Animal control',\n",
       "  'Ability to communicate with animals, birds and even aquatic creatures and get them to perform tasks on command'],\n",
       " ['Animal mimicry', 'Ability to take on the abilities of certain animals'],\n",
       " ['Animal morphing', 'Ability to take on animal forms']]"
      ]
     },
     "execution_count": 46,
     "metadata": {},
     "output_type": "execute_result"
    }
   ],
   "source": [
    "general_power.sort()\n",
    "general_power[:5]"
   ]
  },
  {
   "cell_type": "code",
   "execution_count": 47,
   "metadata": {
    "collapsed": true
   },
   "outputs": [],
   "source": [
    "identity = [[\"Tony Stark\", \"Iron Man\"], \n",
    "\t\t[\"Steve Rodgers\", \"Captain America\"], \n",
    "\t\t[\"Henry Pym\", \"Ant-Man\"],\n",
    "\t\t[\"Janet van Dyne\", \"Wasp\"],\n",
    "\t\t[\"Thor\", \"Thor\"],\n",
    "\t\t[\"Bruce Banner\", \"Hulk\"]]"
   ]
  },
  {
   "cell_type": "code",
   "execution_count": 48,
   "metadata": {
    "collapsed": false
   },
   "outputs": [
    {
     "data": {
      "text/plain": [
       "array([['Tony Stark', 'Iron Man'],\n",
       "       ['Steve Rodgers', 'Captain America'],\n",
       "       ['Henry Pym', 'Ant-Man'],\n",
       "       ['Janet van Dyne', 'Wasp'],\n",
       "       ['Thor', 'Thor']], \n",
       "      dtype='<U15')"
      ]
     },
     "execution_count": 48,
     "metadata": {},
     "output_type": "execute_result"
    }
   ],
   "source": [
    "identity = np.array(identity)\n",
    "identity[:5]"
   ]
  },
  {
   "cell_type": "code",
   "execution_count": 49,
   "metadata": {
    "collapsed": true
   },
   "outputs": [],
   "source": [
    "power_table = [[\"13\", \"Can emit pulse bolts from the hands and chest. Can generate a defensive energy shield, a freeze-beam and sonic blasts\"],\n",
    "\t\t[\"34\", \"2280 mph\"],\n",
    "\t\t[\"95\", \"90 tons\"],\n",
    "\t\t[\"95\", \"1200 lbs\"],\n",
    "\t\t[\"109\", \"Uses a nigh-indestructible disc-shaped shield as a throwing weapon and shield\"],\n",
    "\t\t[\"83\", \"Microscopic to 100 feet gigantic\"],\n",
    "\t\t[\"34\", \"40 mph\"],\n",
    "\t\t[\"29\", \"Electrical force bursts\"],\n",
    "\t\t[\"95\", \"Over 100 Tons\"],\n",
    "\t\t[\"107\", \"Can summon the elements of the storm being lightning, rain, wind, and snow\"],\n",
    "\t\t[\"40\", \"Near invulnerability\"],\n",
    "\t\t[\"34\", \"1500 mph\"],\n",
    "\t\t[\"95\", \"Over 100 Tons\"]]"
   ]
  },
  {
   "cell_type": "code",
   "execution_count": 50,
   "metadata": {
    "collapsed": false
   },
   "outputs": [
    {
     "data": {
      "text/plain": [
       "array(['13', '34', '95', '95', '109', '83', '34', '29', '95', '107', '40',\n",
       "       '34', '95'], \n",
       "      dtype='<U117')"
      ]
     },
     "execution_count": 50,
     "metadata": {},
     "output_type": "execute_result"
    }
   ],
   "source": [
    "power_table = np.array(power_table)\n",
    "power_table[:,0] = list(map(int, power_table[:,0]))\n",
    "power_table[:,0]"
   ]
  },
  {
   "cell_type": "code",
   "execution_count": 51,
   "metadata": {
    "collapsed": true
   },
   "outputs": [],
   "source": [
    "superhuman = [[\"1\", \"1\", \"2\", \"3\"],\n",
    "\t\t\t\t\t\t\t\t\t\t\t[\"2\", \"4\", \"5\", \"14\"],\n",
    "\t\t\t\t\t\t\t\t\t\t\t[\"3\", \"6\", \"14\", \"14\"],\n",
    "\t\t\t\t\t\t\t\t\t\t\t[\"4\", \"6\", \"7\", \"8\"],\n",
    "\t\t\t\t\t\t\t\t\t\t\t[\"5\", \"9\", \"10\", \"11\"],\n",
    "\t\t\t\t\t\t\t\t\t\t\t[\"6\", \"11\", \"12\", \"13\"]]"
   ]
  },
  {
   "cell_type": "code",
   "execution_count": 62,
   "metadata": {
    "collapsed": false
   },
   "outputs": [
    {
     "data": {
      "text/plain": [
       "array([['1', '1', '2', '3'],\n",
       "       ['2', '4', '5', '14'],\n",
       "       ['3', '6', '14', '14'],\n",
       "       ['4', '6', '7', '8'],\n",
       "       ['5', '9', '10', '11']], \n",
       "      dtype='<U2')"
      ]
     },
     "execution_count": 62,
     "metadata": {},
     "output_type": "execute_result"
    }
   ],
   "source": [
    "superhuman = np.array(superhuman)\n",
    "superhuman.astype(int)\n",
    "superhuman[:5]"
   ]
  },
  {
   "cell_type": "code",
   "execution_count": 53,
   "metadata": {
    "collapsed": true
   },
   "outputs": [],
   "source": [
    "## Use sql in python\n",
    "## Generate all the insert statement\n",
    "def generateInsertStatement(array_name, \n",
    "                            table_name, field_1, field_2):\n",
    "    insert_statement = []\n",
    "    i = 0\n",
    "    for item in array_name:\n",
    "        \n",
    "        insert_statement.append(\"INSERT INTO \" + table_name + \n",
    "              \" (\" + field_1 + \", \" + field_2 + \") VALUES ( '\" + item[0] + \"', '\"\n",
    "             + item[1] + \"');\")\n",
    "        super_conn.execute(insert_statement[i])\n",
    "        print(insert_statement[i])\n",
    "        super_conn.commit()\n",
    "        i += 1"
   ]
  },
  {
   "cell_type": "code",
   "execution_count": 54,
   "metadata": {
    "collapsed": false
   },
   "outputs": [
    {
     "name": "stdout",
     "output_type": "stream",
     "text": [
      "INSERT INTO general_power (power_type, general_powerdesc) VALUES ( 'Acid generation', 'Ability to generate acid, can be manifested through touch or as a spray');\n",
      "INSERT INTO general_power (power_type, general_powerdesc) VALUES ( 'Air and wind manipulation', 'Ability to control, generate, or absorb air or wind');\n",
      "INSERT INTO general_power (power_type, general_powerdesc) VALUES ( 'Animal control', 'Ability to communicate with animals, birds and even aquatic creatures and get them to perform tasks on command');\n",
      "INSERT INTO general_power (power_type, general_powerdesc) VALUES ( 'Animal mimicry', 'Ability to take on the abilities of certain animals');\n",
      "INSERT INTO general_power (power_type, general_powerdesc) VALUES ( 'Animal morphing', 'Ability to take on animal forms');\n",
      "INSERT INTO general_power (power_type, general_powerdesc) VALUES ( 'Animation', 'Ability to bring inanimate objects to life or to free an individual from petrification');\n",
      "INSERT INTO general_power (power_type, general_powerdesc) VALUES ( 'Astral projection', 'This is the ability to separate and control one''s astral body');\n",
      "INSERT INTO general_power (power_type, general_powerdesc) VALUES ( 'Astral trapping', 'Ability to cause an astral projection to stay on the astral plane');\n",
      "INSERT INTO general_power (power_type, general_powerdesc) VALUES ( 'Biological manipulation', 'Ability to control all aspects of a living creature''s biological make-up');\n",
      "INSERT INTO general_power (power_type, general_powerdesc) VALUES ( 'Body part substitution', 'Ability to replace one''s limbs or other body parts with those of another');\n",
      "INSERT INTO general_power (power_type, general_powerdesc) VALUES ( 'Bone manipulation', 'Ability to manipulate the bones in one''s own body');\n",
      "INSERT INTO general_power (power_type, general_powerdesc) VALUES ( 'Cold and ice manipulation', 'Ability to reduce the kinetic energy of atoms and thus reduce temperature, can be used to control, generate, or absorb ice');\n",
      "INSERT INTO general_power (power_type, general_powerdesc) VALUES ( 'Concussion beams', 'Ability to generate or transform various forms of energy into a solid or concussive beam of energy');\n",
      "INSERT INTO general_power (power_type, general_powerdesc) VALUES ( 'Cross-dimensional awareness', 'Ability to detect actions and events in other dimensions');\n",
      "INSERT INTO general_power (power_type, general_powerdesc) VALUES ( 'Darkness or shadow manipulation', 'Ability to create or manipulate darkness');\n",
      "INSERT INTO general_power (power_type, general_powerdesc) VALUES ( 'Density control', 'Ability to increase or decrease the natural density of an object and/or one''s self');\n",
      "INSERT INTO general_power (power_type, general_powerdesc) VALUES ( 'Dimensional travel', 'Ability to travel between two or more dimensions, realities, realms');\n",
      "INSERT INTO general_power (power_type, general_powerdesc) VALUES ( 'Disintegration', 'Ability to disintegrate matter through touch or through beams');\n",
      "INSERT INTO general_power (power_type, general_powerdesc) VALUES ( 'Duplication (physical)', 'Ability to create physical duplicates of oneself');\n",
      "INSERT INTO general_power (power_type, general_powerdesc) VALUES ( 'Duplication (temporal)', 'Ability to bring past and future versions of oneself back to the present');\n",
      "INSERT INTO general_power (power_type, general_powerdesc) VALUES ( 'Earth manipulation', 'Ability to control earth; sand, stone, rock, lava, dirt, or other minerals');\n",
      "INSERT INTO general_power (power_type, general_powerdesc) VALUES ( 'Echolocation', 'Ability to determine location of objects in the environment by use of reflected sound waves');\n",
      "INSERT INTO general_power (power_type, general_powerdesc) VALUES ( 'Ecological empathy', 'The ability to sense the overall well-being and conditions of one''s immediate environment and natural setting stemming from a psychic sensitivity to nature');\n",
      "INSERT INTO general_power (power_type, general_powerdesc) VALUES ( 'Elasticity', 'Ability to stretch, deform, expand or contract one''s body into any form imaginable');\n",
      "INSERT INTO general_power (power_type, general_powerdesc) VALUES ( 'Electric manipulation', 'Ability to control, generate or absorb electric fields');\n",
      "INSERT INTO general_power (power_type, general_powerdesc) VALUES ( 'Electrical transportation', 'Ability to travel through electrical conduits such as power lines or telephone lines');\n",
      "INSERT INTO general_power (power_type, general_powerdesc) VALUES ( 'Elemental transmutation', 'The ability to alter chemical elements, changing them from one substance to another by rearranging the atomic structure');\n",
      "INSERT INTO general_power (power_type, general_powerdesc) VALUES ( 'Empathy', 'Ability to read or sense the emotions and/or control the emotions or feelings of others');\n",
      "INSERT INTO general_power (power_type, general_powerdesc) VALUES ( 'Energy blasts', 'Ability to expel various forms of energy from the body');\n",
      "INSERT INTO general_power (power_type, general_powerdesc) VALUES ( 'Energy constructs', 'Ability to create complex shapes such as giant boxing gloves or cages or even functional machinery such as fire extinguishers or laser rifles out of solid energy');\n",
      "INSERT INTO general_power (power_type, general_powerdesc) VALUES ( 'Energy conversion', 'Ability to absorb one form of energy and convert it into another form of energy');\n",
      "INSERT INTO general_power (power_type, general_powerdesc) VALUES ( 'Fire and heat manipulation', 'Ability to control the kinetic energy of atoms to generate, control or absorb fire');\n",
      "INSERT INTO general_power (power_type, general_powerdesc) VALUES ( 'Firebreathing', 'Ability generate gases from the body and exhale fire from the mouth');\n",
      "INSERT INTO general_power (power_type, general_powerdesc) VALUES ( 'Flight', 'Ability to fly');\n",
      "INSERT INTO general_power (power_type, general_powerdesc) VALUES ( 'Force field generation', 'Ability to project powerful fields of manipulated energy');\n",
      "INSERT INTO general_power (power_type, general_powerdesc) VALUES ( 'Freeze vision', 'Ability to freeze objects and other individuals with one''s gaze');\n",
      "INSERT INTO general_power (power_type, general_powerdesc) VALUES ( 'Gravity manipulation', 'Ability to manipulate or generate gravitons');\n",
      "INSERT INTO general_power (power_type, general_powerdesc) VALUES ( 'Healing factor', 'Ability to heal rapidly and with greater finality from any injury');\n",
      "INSERT INTO general_power (power_type, general_powerdesc) VALUES ( 'Heat vision', 'Ability to burn objects and other individuals with one''s gaze');\n",
      "INSERT INTO general_power (power_type, general_powerdesc) VALUES ( 'Immortality', 'Ability to live forever. This may be complete immortality encompassing invulnerability, partial invulnerability to all but specific events ');\n",
      "INSERT INTO general_power (power_type, general_powerdesc) VALUES ( 'Innate capability', 'Ability to naturally have skills and/or knowledge typically earned through learning');\n",
      "INSERT INTO general_power (power_type, general_powerdesc) VALUES ( 'Inorganic', 'Ability to transform completely into an inorganic substance while retaining organic properties');\n",
      "INSERT INTO general_power (power_type, general_powerdesc) VALUES ( 'Intangibility or phasing', 'Ability to quantum tunnel through solid matter without harm');\n",
      "INSERT INTO general_power (power_type, general_powerdesc) VALUES ( 'Invisibility', 'Ability to render the user unseen to the naked eye');\n",
      "INSERT INTO general_power (power_type, general_powerdesc) VALUES ( 'Invulnerability', 'Ability to be immune to one or more forms of physical, mental, and spiritual damage and influence');\n",
      "INSERT INTO general_power (power_type, general_powerdesc) VALUES ( 'Kinetic absorption', 'Ability to absorb forms of kinetic energy into oneself and utilize it in some way, such as by converting it into physical strength or using it to power energy blasts');\n",
      "INSERT INTO general_power (power_type, general_powerdesc) VALUES ( 'Light manipulation', 'Ability to control, generate or absorb light particles');\n",
      "INSERT INTO general_power (power_type, general_powerdesc) VALUES ( 'Liquification', 'Ability to turn partially or completely into a liquid');\n",
      "INSERT INTO general_power (power_type, general_powerdesc) VALUES ( 'Magnetism manipulation', 'Ability to control and/or generate magnetic fields');\n",
      "INSERT INTO general_power (power_type, general_powerdesc) VALUES ( 'Mass manipulation', 'Ability to increase or decrease mass in an object');\n",
      "INSERT INTO general_power (power_type, general_powerdesc) VALUES ( 'Matter Ingestion', 'Ability to consume any sort of matter without any ill effects on the user');\n",
      "INSERT INTO general_power (power_type, general_powerdesc) VALUES ( 'Mediumship', 'Ability to see and communicate with the dead');\n",
      "INSERT INTO general_power (power_type, general_powerdesc) VALUES ( 'Memory manipulation', 'Ability to erase or enhance the memories of another');\n",
      "INSERT INTO general_power (power_type, general_powerdesc) VALUES ( 'Merging', 'Ability to temporarily merge two or more beings into a single being, which results in a completely new and stronger being');\n",
      "INSERT INTO general_power (power_type, general_powerdesc) VALUES ( 'Microwave manipulation', 'The ability to convert ambient electromagnetic energy into microwaves and manipulate it into various effects such as heat, light, and radiation');\n",
      "INSERT INTO general_power (power_type, general_powerdesc) VALUES ( 'Mind control', 'The ability to alter the perceptions of others, and general ability to control the actions of others with the mind');\n",
      "INSERT INTO general_power (power_type, general_powerdesc) VALUES ( 'Molecular manipulation', 'Ability to mentally manipulate the molecules of objects and/or one''s self on a molecular level');\n",
      "INSERT INTO general_power (power_type, general_powerdesc) VALUES ( 'Night vision', 'The ability to see clearly in total darkness');\n",
      "INSERT INTO general_power (power_type, general_powerdesc) VALUES ( 'Omni-linguism', 'Ability to understand any form of language');\n",
      "INSERT INTO general_power (power_type, general_powerdesc) VALUES ( 'Omnipresence', 'Ability to be present anywhere and everywhere simultaneously');\n",
      "INSERT INTO general_power (power_type, general_powerdesc) VALUES ( 'Omniscience', 'Ability to know anything and everything');\n",
      "INSERT INTO general_power (power_type, general_powerdesc) VALUES ( 'Pheromone manipulation', 'Ability to generate and control pheromones which may have various effects');\n",
      "INSERT INTO general_power (power_type, general_powerdesc) VALUES ( 'Plant manipulation', 'Ability to create, control, manipulate or animate plant life');\n",
      "INSERT INTO general_power (power_type, general_powerdesc) VALUES ( 'Poison generation', 'Ability to assault others with one or more varieties of toxins, with widely disparate effects');\n",
      "INSERT INTO general_power (power_type, general_powerdesc) VALUES ( 'Portal creation', 'Ability to create wormholes, portation discs or other spatial portals for transport');\n",
      "INSERT INTO general_power (power_type, general_powerdesc) VALUES ( 'Possession', 'Ability to take control and inhabit the body of an individual');\n",
      "INSERT INTO general_power (power_type, general_powerdesc) VALUES ( 'Power augmentation', 'Ability to enhance or weaken the powers of others');\n",
      "INSERT INTO general_power (power_type, general_powerdesc) VALUES ( 'Power bestowal', 'Ability to bestow powers or jump-start latent powers');\n",
      "INSERT INTO general_power (power_type, general_powerdesc) VALUES ( 'Power mimicry or absorption', 'Ability to copy or absorb another''s powers or skills');\n",
      "INSERT INTO general_power (power_type, general_powerdesc) VALUES ( 'Power negation', 'Ability to cancel the superpowers of others');\n",
      "INSERT INTO general_power (power_type, general_powerdesc) VALUES ( 'Power sensing', 'Ability to sense or recognize superhuman powers');\n",
      "INSERT INTO general_power (power_type, general_powerdesc) VALUES ( 'Precognition', 'Ability to perceive the future');\n",
      "INSERT INTO general_power (power_type, general_powerdesc) VALUES ( 'Prehensile / animated hair', 'Ability to animate and lengthen one''s hair');\n",
      "INSERT INTO general_power (power_type, general_powerdesc) VALUES ( 'Probability manipulation', 'Ability to alter probability, causing unlikely things to happen, or likely things not to happen');\n",
      "INSERT INTO general_power (power_type, general_powerdesc) VALUES ( 'Psionic blast', 'Ability to overload another''s mind causing pain, memory loss, lack of consciousness, vegetative state or death');\n",
      "INSERT INTO general_power (power_type, general_powerdesc) VALUES ( 'Psychic weapons', 'Ability to create a weapon of psychic energy that can harm mentally and not physically');\n",
      "INSERT INTO general_power (power_type, general_powerdesc) VALUES ( 'Psychometry', 'Ability to relate details about the past or future condition of an object or location');\n",
      "INSERT INTO general_power (power_type, general_powerdesc) VALUES ( 'Radiation manipulation', 'Ability to generate, manipulate or have immunity to toxic radiation');\n",
      "INSERT INTO general_power (power_type, general_powerdesc) VALUES ( 'Reactive adaptation / evolution', 'Ability to develop a resistance or immunity to whatever they were injured by or exposed to');\n",
      "INSERT INTO general_power (power_type, general_powerdesc) VALUES ( 'Reality warping', 'Ability to change or manipulate reality itself');\n",
      "INSERT INTO general_power (power_type, general_powerdesc) VALUES ( 'Resurrection', 'Ability to come back to life after being killed as well as to bring others back to life');\n",
      "INSERT INTO general_power (power_type, general_powerdesc) VALUES ( 'Self-detonation / reformation', 'Ability to explode one''s body mass and reform');\n",
      "INSERT INTO general_power (power_type, general_powerdesc) VALUES ( 'Size shifting', 'Ability to increase or decrease one''s size');\n",
      "INSERT INTO general_power (power_type, general_powerdesc) VALUES ( 'Sonic scream', 'Ability to generate vocal sounds of a higher amplitude than a normal human');\n",
      "INSERT INTO general_power (power_type, general_powerdesc) VALUES ( 'Sound manipulation', 'Ability to manipulate sound');\n",
      "INSERT INTO general_power (power_type, general_powerdesc) VALUES ( 'Sublimation', 'Ability to transform into a gaseous, mist, or fog-like form');\n",
      "INSERT INTO general_power (power_type, general_powerdesc) VALUES ( 'Substance mimicry', 'Ability to transform into any substance touched');\n",
      "INSERT INTO general_power (power_type, general_powerdesc) VALUES ( 'Summoning', 'Ability to summon beings or objects for assistance');\n",
      "INSERT INTO general_power (power_type, general_powerdesc) VALUES ( 'Superhuman agility', 'Ability to react faster than a normal human and to possess greater flexibility and with higher/farther jumping capacity');\n",
      "INSERT INTO general_power (power_type, general_powerdesc) VALUES ( 'Superhuman endurance', 'Ability to have a higher resistance to one or more forms of damage before being injured as well as the ability to exert ones self in an activity indefinitely without becoming tired');\n",
      "INSERT INTO general_power (power_type, general_powerdesc) VALUES ( 'Superhuman longevity', 'Ability to live longer than a normal human');\n",
      "INSERT INTO general_power (power_type, general_powerdesc) VALUES ( 'Superhuman mentality', 'Ability to have intelligence quotient far above that of a genius level');\n",
      "INSERT INTO general_power (power_type, general_powerdesc) VALUES ( 'Superhuman senses', 'Ability to see, smell, taste, feel and/or hear more than a normal Human');\n",
      "INSERT INTO general_power (power_type, general_powerdesc) VALUES ( 'Superhuman speed', 'The ability to move, run, fly, react, think, and sense at speeds much faster than a normal human');\n",
      "INSERT INTO general_power (power_type, general_powerdesc) VALUES ( 'Superhuman strength', 'Ability to have a level of strength much higher than normally possible given their proportions');\n",
      "INSERT INTO general_power (power_type, general_powerdesc) VALUES ( 'Superhuman tracking', 'Ability to track an individual or object through supernatural means');\n",
      "INSERT INTO general_power (power_type, general_powerdesc) VALUES ( 'Technopathy', 'Electrical/telekinetic manipulation that allows for a mental interface to manipulate technology');\n",
      "INSERT INTO general_power (power_type, general_powerdesc) VALUES ( 'Telepathy', 'Ability to read the thoughts of, or to mentally communicate with others');\n",
      "INSERT INTO general_power (power_type, general_powerdesc) VALUES ( 'Teleportation', 'Ability to move from one place to another without occupying the space in between');\n",
      "INSERT INTO general_power (power_type, general_powerdesc) VALUES ( 'Telescopic vision', 'Ability to magnify and extend one''s vision to various levels');\n",
      "INSERT INTO general_power (power_type, general_powerdesc) VALUES ( 'Time manipulation', 'Ability to affect the flow of time by slowing, accelerating, reversing, or stopping it');\n",
      "INSERT INTO general_power (power_type, general_powerdesc) VALUES ( 'Time travel', 'Ability to travel back or forth through time');\n",
      "INSERT INTO general_power (power_type, general_powerdesc) VALUES ( 'Vortex breath', 'Ability to inhale/exhale with superhumanly powerful strength');\n",
      "INSERT INTO general_power (power_type, general_powerdesc) VALUES ( 'Wallcrawling', 'Ability to adhere to solid surfaces, including walls and ceilings');\n",
      "INSERT INTO general_power (power_type, general_powerdesc) VALUES ( 'Water and moisture manipulation', 'Ability to control, generate or absorb water');\n",
      "INSERT INTO general_power (power_type, general_powerdesc) VALUES ( 'Waterbreathing', 'Ability to respirate through water in lieu of a gaseous medium');\n",
      "INSERT INTO general_power (power_type, general_powerdesc) VALUES ( 'Weather manipulation', 'Ability to control or mentally affect the weather');\n",
      "INSERT INTO general_power (power_type, general_powerdesc) VALUES ( 'X-ray vision', 'Ability to see through solid matter');\n"
     ]
    }
   ],
   "source": [
    "## Populate general_power table\n",
    "generateInsertStatement(general_power, \"general_power\", \"power_type\", \"general_powerdesc\")"
   ]
  },
  {
   "cell_type": "code",
   "execution_count": 55,
   "metadata": {
    "collapsed": false
   },
   "outputs": [
    {
     "name": "stdout",
     "output_type": "stream",
     "text": [
      "(1, 'Acid generation', 'Ability to generate acid, can be manifested through touch or as a spray')\n",
      "(2, 'Air and wind manipulation', 'Ability to control, generate, or absorb air or wind')\n",
      "(3, 'Animal control', 'Ability to communicate with animals, birds and even aquatic creatures and get them to perform tasks on command')\n",
      "(4, 'Animal mimicry', 'Ability to take on the abilities of certain animals')\n",
      "(5, 'Animal morphing', 'Ability to take on animal forms')\n",
      "(6, 'Animation', 'Ability to bring inanimate objects to life or to free an individual from petrification')\n",
      "(7, 'Astral projection', \"This is the ability to separate and control one's astral body\")\n",
      "(8, 'Astral trapping', 'Ability to cause an astral projection to stay on the astral plane')\n",
      "(9, 'Biological manipulation', \"Ability to control all aspects of a living creature's biological make-up\")\n",
      "(10, 'Body part substitution', \"Ability to replace one's limbs or other body parts with those of another\")\n",
      "(11, 'Bone manipulation', \"Ability to manipulate the bones in one's own body\")\n",
      "(12, 'Cold and ice manipulation', 'Ability to reduce the kinetic energy of atoms and thus reduce temperature, can be used to control, generate, or absorb ice')\n",
      "(13, 'Concussion beams', 'Ability to generate or transform various forms of energy into a solid or concussive beam of energy')\n",
      "(14, 'Cross-dimensional awareness', 'Ability to detect actions and events in other dimensions')\n",
      "(15, 'Darkness or shadow manipulation', 'Ability to create or manipulate darkness')\n",
      "(16, 'Density control', \"Ability to increase or decrease the natural density of an object and/or one's self\")\n",
      "(17, 'Dimensional travel', 'Ability to travel between two or more dimensions, realities, realms')\n",
      "(18, 'Disintegration', 'Ability to disintegrate matter through touch or through beams')\n",
      "(19, 'Duplication (physical)', 'Ability to create physical duplicates of oneself')\n",
      "(20, 'Duplication (temporal)', 'Ability to bring past and future versions of oneself back to the present')\n",
      "(21, 'Earth manipulation', 'Ability to control earth; sand, stone, rock, lava, dirt, or other minerals')\n",
      "(22, 'Echolocation', 'Ability to determine location of objects in the environment by use of reflected sound waves')\n",
      "(23, 'Ecological empathy', \"The ability to sense the overall well-being and conditions of one's immediate environment and natural setting stemming from a psychic sensitivity to nature\")\n",
      "(24, 'Elasticity', \"Ability to stretch, deform, expand or contract one's body into any form imaginable\")\n",
      "(25, 'Electric manipulation', 'Ability to control, generate or absorb electric fields')\n",
      "(26, 'Electrical transportation', 'Ability to travel through electrical conduits such as power lines or telephone lines')\n",
      "(27, 'Elemental transmutation', 'The ability to alter chemical elements, changing them from one substance to another by rearranging the atomic structure')\n",
      "(28, 'Empathy', 'Ability to read or sense the emotions and/or control the emotions or feelings of others')\n",
      "(29, 'Energy blasts', 'Ability to expel various forms of energy from the body')\n",
      "(30, 'Energy constructs', 'Ability to create complex shapes such as giant boxing gloves or cages or even functional machinery such as fire extinguishers or laser rifles out of solid energy')\n",
      "(31, 'Energy conversion', 'Ability to absorb one form of energy and convert it into another form of energy')\n",
      "(32, 'Fire and heat manipulation', 'Ability to control the kinetic energy of atoms to generate, control or absorb fire')\n",
      "(33, 'Firebreathing', 'Ability generate gases from the body and exhale fire from the mouth')\n",
      "(34, 'Flight', 'Ability to fly')\n",
      "(35, 'Force field generation', 'Ability to project powerful fields of manipulated energy')\n",
      "(36, 'Freeze vision', \"Ability to freeze objects and other individuals with one's gaze\")\n",
      "(37, 'Gravity manipulation', 'Ability to manipulate or generate gravitons')\n",
      "(38, 'Healing factor', 'Ability to heal rapidly and with greater finality from any injury')\n",
      "(39, 'Heat vision', \"Ability to burn objects and other individuals with one's gaze\")\n",
      "(40, 'Immortality', 'Ability to live forever. This may be complete immortality encompassing invulnerability, partial invulnerability to all but specific events ')\n",
      "(41, 'Innate capability', 'Ability to naturally have skills and/or knowledge typically earned through learning')\n",
      "(42, 'Inorganic', 'Ability to transform completely into an inorganic substance while retaining organic properties')\n",
      "(43, 'Intangibility or phasing', 'Ability to quantum tunnel through solid matter without harm')\n",
      "(44, 'Invisibility', 'Ability to render the user unseen to the naked eye')\n",
      "(45, 'Invulnerability', 'Ability to be immune to one or more forms of physical, mental, and spiritual damage and influence')\n",
      "(46, 'Kinetic absorption', 'Ability to absorb forms of kinetic energy into oneself and utilize it in some way, such as by converting it into physical strength or using it to power energy blasts')\n",
      "(47, 'Light manipulation', 'Ability to control, generate or absorb light particles')\n",
      "(48, 'Liquification', 'Ability to turn partially or completely into a liquid')\n",
      "(49, 'Magnetism manipulation', 'Ability to control and/or generate magnetic fields')\n",
      "(50, 'Mass manipulation', 'Ability to increase or decrease mass in an object')\n",
      "(51, 'Matter Ingestion', 'Ability to consume any sort of matter without any ill effects on the user')\n",
      "(52, 'Mediumship', 'Ability to see and communicate with the dead')\n",
      "(53, 'Memory manipulation', 'Ability to erase or enhance the memories of another')\n",
      "(54, 'Merging', 'Ability to temporarily merge two or more beings into a single being, which results in a completely new and stronger being')\n",
      "(55, 'Microwave manipulation', 'The ability to convert ambient electromagnetic energy into microwaves and manipulate it into various effects such as heat, light, and radiation')\n",
      "(56, 'Mind control', 'The ability to alter the perceptions of others, and general ability to control the actions of others with the mind')\n",
      "(57, 'Molecular manipulation', \"Ability to mentally manipulate the molecules of objects and/or one's self on a molecular level\")\n",
      "(58, 'Night vision', 'The ability to see clearly in total darkness')\n",
      "(59, 'Omni-linguism', 'Ability to understand any form of language')\n",
      "(60, 'Omnipresence', 'Ability to be present anywhere and everywhere simultaneously')\n",
      "(61, 'Omniscience', 'Ability to know anything and everything')\n",
      "(62, 'Pheromone manipulation', 'Ability to generate and control pheromones which may have various effects')\n",
      "(63, 'Plant manipulation', 'Ability to create, control, manipulate or animate plant life')\n",
      "(64, 'Poison generation', 'Ability to assault others with one or more varieties of toxins, with widely disparate effects')\n",
      "(65, 'Portal creation', 'Ability to create wormholes, portation discs or other spatial portals for transport')\n",
      "(66, 'Possession', 'Ability to take control and inhabit the body of an individual')\n",
      "(67, 'Power augmentation', 'Ability to enhance or weaken the powers of others')\n",
      "(68, 'Power bestowal', 'Ability to bestow powers or jump-start latent powers')\n",
      "(69, 'Power mimicry or absorption', \"Ability to copy or absorb another's powers or skills\")\n",
      "(70, 'Power negation', 'Ability to cancel the superpowers of others')\n",
      "(71, 'Power sensing', 'Ability to sense or recognize superhuman powers')\n",
      "(72, 'Precognition', 'Ability to perceive the future')\n",
      "(73, 'Prehensile / animated hair', \"Ability to animate and lengthen one's hair\")\n",
      "(74, 'Probability manipulation', 'Ability to alter probability, causing unlikely things to happen, or likely things not to happen')\n",
      "(75, 'Psionic blast', \"Ability to overload another's mind causing pain, memory loss, lack of consciousness, vegetative state or death\")\n",
      "(76, 'Psychic weapons', 'Ability to create a weapon of psychic energy that can harm mentally and not physically')\n",
      "(77, 'Psychometry', 'Ability to relate details about the past or future condition of an object or location')\n",
      "(78, 'Radiation manipulation', 'Ability to generate, manipulate or have immunity to toxic radiation')\n",
      "(79, 'Reactive adaptation / evolution', 'Ability to develop a resistance or immunity to whatever they were injured by or exposed to')\n",
      "(80, 'Reality warping', 'Ability to change or manipulate reality itself')\n",
      "(81, 'Resurrection', 'Ability to come back to life after being killed as well as to bring others back to life')\n",
      "(82, 'Self-detonation / reformation', \"Ability to explode one's body mass and reform\")\n",
      "(83, 'Size shifting', \"Ability to increase or decrease one's size\")\n",
      "(84, 'Sonic scream', 'Ability to generate vocal sounds of a higher amplitude than a normal human')\n",
      "(85, 'Sound manipulation', 'Ability to manipulate sound')\n",
      "(86, 'Sublimation', 'Ability to transform into a gaseous, mist, or fog-like form')\n",
      "(87, 'Substance mimicry', 'Ability to transform into any substance touched')\n",
      "(88, 'Summoning', 'Ability to summon beings or objects for assistance')\n",
      "(89, 'Superhuman agility', 'Ability to react faster than a normal human and to possess greater flexibility and with higher/farther jumping capacity')\n",
      "(90, 'Superhuman endurance', 'Ability to have a higher resistance to one or more forms of damage before being injured as well as the ability to exert ones self in an activity indefinitely without becoming tired')\n",
      "(91, 'Superhuman longevity', 'Ability to live longer than a normal human')\n",
      "(92, 'Superhuman mentality', 'Ability to have intelligence quotient far above that of a genius level')\n",
      "(93, 'Superhuman senses', 'Ability to see, smell, taste, feel and/or hear more than a normal Human')\n",
      "(94, 'Superhuman speed', 'The ability to move, run, fly, react, think, and sense at speeds much faster than a normal human')\n",
      "(95, 'Superhuman strength', 'Ability to have a level of strength much higher than normally possible given their proportions')\n",
      "(96, 'Superhuman tracking', 'Ability to track an individual or object through supernatural means')\n",
      "(97, 'Technopathy', 'Electrical/telekinetic manipulation that allows for a mental interface to manipulate technology')\n",
      "(98, 'Telepathy', 'Ability to read the thoughts of, or to mentally communicate with others')\n",
      "(99, 'Teleportation', 'Ability to move from one place to another without occupying the space in between')\n",
      "(100, 'Telescopic vision', \"Ability to magnify and extend one's vision to various levels\")\n",
      "(101, 'Time manipulation', 'Ability to affect the flow of time by slowing, accelerating, reversing, or stopping it')\n",
      "(102, 'Time travel', 'Ability to travel back or forth through time')\n",
      "(103, 'Vortex breath', 'Ability to inhale/exhale with superhumanly powerful strength')\n",
      "(104, 'Wallcrawling', 'Ability to adhere to solid surfaces, including walls and ceilings')\n",
      "(105, 'Water and moisture manipulation', 'Ability to control, generate or absorb water')\n",
      "(106, 'Waterbreathing', 'Ability to respirate through water in lieu of a gaseous medium')\n",
      "(107, 'Weather manipulation', 'Ability to control or mentally affect the weather')\n",
      "(108, 'X-ray vision', 'Ability to see through solid matter')\n"
     ]
    }
   ],
   "source": [
    "my_cur.execute(\"SELECT * FROM general_power\")\n",
    "my_rows = my_cur.fetchall()\n",
    "for row in my_rows:\n",
    "    print(row)"
   ]
  },
  {
   "cell_type": "code",
   "execution_count": 56,
   "metadata": {
    "collapsed": false
   },
   "outputs": [
    {
     "name": "stdout",
     "output_type": "stream",
     "text": [
      "INSERT INTO identity (secret_id, character) VALUES ( 'Tony Stark', 'Iron Man');\n",
      "INSERT INTO identity (secret_id, character) VALUES ( 'Steve Rodgers', 'Captain America');\n",
      "INSERT INTO identity (secret_id, character) VALUES ( 'Henry Pym', 'Ant-Man');\n",
      "INSERT INTO identity (secret_id, character) VALUES ( 'Janet van Dyne', 'Wasp');\n",
      "INSERT INTO identity (secret_id, character) VALUES ( 'Thor', 'Thor');\n",
      "INSERT INTO identity (secret_id, character) VALUES ( 'Bruce Banner', 'Hulk');\n"
     ]
    }
   ],
   "source": [
    "## Populate identity table\n",
    "generateInsertStatement(identity, \"identity\", \"secret_id\", \"character\")"
   ]
  },
  {
   "cell_type": "code",
   "execution_count": 57,
   "metadata": {
    "collapsed": false
   },
   "outputs": [
    {
     "name": "stdout",
     "output_type": "stream",
     "text": [
      "(1, 'Tony Stark', 'Iron Man')\n",
      "(2, 'Steve Rodgers', 'Captain America')\n",
      "(3, 'Henry Pym', 'Ant-Man')\n",
      "(4, 'Janet van Dyne', 'Wasp')\n",
      "(5, 'Thor', 'Thor')\n",
      "(6, 'Bruce Banner', 'Hulk')\n"
     ]
    }
   ],
   "source": [
    "my_cur.execute(\"SELECT * FROM identity\")\n",
    "my_rows = my_cur.fetchall()\n",
    "for row in my_rows:\n",
    "    print(row)"
   ]
  },
  {
   "cell_type": "code",
   "execution_count": 58,
   "metadata": {
    "collapsed": true
   },
   "outputs": [],
   "source": [
    "## Use sql in python\n",
    "## Generate all the insert statement\n",
    "def generateInsertStatement2(array_name, \n",
    "                            table_name, field_1, field_2):\n",
    "    insert_statement = []\n",
    "    i = 0\n",
    "    for item in array_name:\n",
    "        item[0] = int(item[0])\n",
    "        insert_statement.append(\"INSERT INTO \" + table_name + \n",
    "              \" (\" + field_1 + \", \" + field_2 + \") VALUES ( \" + item[0] + \", '\"\n",
    "             + item[1] + \"');\")\n",
    "        super_conn.execute(insert_statement[i])\n",
    "        print(insert_statement[i])\n",
    "        super_conn.commit()\n",
    "        i += 1"
   ]
  },
  {
   "cell_type": "code",
   "execution_count": 59,
   "metadata": {
    "collapsed": false
   },
   "outputs": [
    {
     "name": "stdout",
     "output_type": "stream",
     "text": [
      "INSERT INTO power_table (power_type_id, power_desc) VALUES ( '13', 'Can emit pulse bolts from the hands and chest. Can generate a defensive energy shield, a freeze-beam and sonic blasts');\n",
      "INSERT INTO power_table (power_type_id, power_desc) VALUES ( '34', '2280 mph');\n",
      "INSERT INTO power_table (power_type_id, power_desc) VALUES ( '95', '90 tons');\n",
      "INSERT INTO power_table (power_type_id, power_desc) VALUES ( '95', '1200 lbs');\n",
      "INSERT INTO power_table (power_type_id, power_desc) VALUES ( '109', 'Uses a nigh-indestructible disc-shaped shield as a throwing weapon and shield');\n",
      "INSERT INTO power_table (power_type_id, power_desc) VALUES ( '83', 'Microscopic to 100 feet gigantic');\n",
      "INSERT INTO power_table (power_type_id, power_desc) VALUES ( '34', '40 mph');\n",
      "INSERT INTO power_table (power_type_id, power_desc) VALUES ( '29', 'Electrical force bursts');\n",
      "INSERT INTO power_table (power_type_id, power_desc) VALUES ( '95', 'Over 100 Tons');\n",
      "INSERT INTO power_table (power_type_id, power_desc) VALUES ( '107', 'Can summon the elements of the storm being lightning, rain, wind, and snow');\n",
      "INSERT INTO power_table (power_type_id, power_desc) VALUES ( '40', 'Near invulnerability');\n",
      "INSERT INTO power_table (power_type_id, power_desc) VALUES ( '34', '1500 mph');\n",
      "INSERT INTO power_table (power_type_id, power_desc) VALUES ( '95', 'Over 100 Tons');\n"
     ]
    }
   ],
   "source": [
    "## Populate power table\n",
    "generateInsertStatement(power_table, \"power_table\", \"power_type_id\", \"power_desc\")"
   ]
  },
  {
   "cell_type": "code",
   "execution_count": 60,
   "metadata": {
    "collapsed": false
   },
   "outputs": [
    {
     "name": "stdout",
     "output_type": "stream",
     "text": [
      "(1, 13, 'Can emit pulse bolts from the hands and chest. Can generate a defensive energy shield, a freeze-beam and sonic blasts')\n",
      "(2, 34, '2280 mph')\n",
      "(3, 95, '90 tons')\n",
      "(4, 95, '1200 lbs')\n",
      "(5, 109, 'Uses a nigh-indestructible disc-shaped shield as a throwing weapon and shield')\n",
      "(6, 83, 'Microscopic to 100 feet gigantic')\n",
      "(7, 34, '40 mph')\n",
      "(8, 29, 'Electrical force bursts')\n",
      "(9, 95, 'Over 100 Tons')\n",
      "(10, 107, 'Can summon the elements of the storm being lightning, rain, wind, and snow')\n",
      "(11, 40, 'Near invulnerability')\n",
      "(12, 34, '1500 mph')\n",
      "(13, 95, 'Over 100 Tons')\n"
     ]
    }
   ],
   "source": [
    "my_cur.execute(\"SELECT * FROM power_table\")\n",
    "my_rows = my_cur.fetchall()\n",
    "for row in my_rows:\n",
    "    print(row)"
   ]
  },
  {
   "cell_type": "code",
   "execution_count": 69,
   "metadata": {
    "collapsed": false
   },
   "outputs": [],
   "source": [
    "## Use sql in python\n",
    "## Generate all the insert statement\n",
    "def generateInsertStatement3(array_name, \n",
    "                            table_name, field_1, field_2, field_3, field_4):\n",
    "    insert_statement = []\n",
    "    i = 0\n",
    "    for item in array_name:\n",
    "        insert_statement.append(\"INSERT INTO \" + table_name + \" (\" + field_1 + \", \" + field_2 + \", \" + field_3 + \", \" + field_4 + \") VALUES (\" + item[0] + \", \" + item[1] + \", \" + item[2] + \", \" + item[3] + \");\" )\n",
    "        super_conn.execute(insert_statement[i])\n",
    "        print(insert_statement[i])\n",
    "        super_conn.commit()\n",
    "        i += 1"
   ]
  },
  {
   "cell_type": "code",
   "execution_count": 72,
   "metadata": {
    "collapsed": false
   },
   "outputs": [
    {
     "name": "stdout",
     "output_type": "stream",
     "text": [
      "INSERT INTO superhuman (identity_id, power_id_1, power_id_2, power_id_3) VALUES (1, 1, 2, 3);\n",
      "INSERT INTO superhuman (identity_id, power_id_1, power_id_2, power_id_3) VALUES (2, 4, 5, 14);\n",
      "INSERT INTO superhuman (identity_id, power_id_1, power_id_2, power_id_3) VALUES (3, 6, 14, 14);\n",
      "INSERT INTO superhuman (identity_id, power_id_1, power_id_2, power_id_3) VALUES (4, 6, 7, 8);\n",
      "INSERT INTO superhuman (identity_id, power_id_1, power_id_2, power_id_3) VALUES (5, 9, 10, 11);\n",
      "INSERT INTO superhuman (identity_id, power_id_1, power_id_2, power_id_3) VALUES (6, 11, 12, 13);\n"
     ]
    }
   ],
   "source": [
    "generateInsertStatement3(superhuman, \"superhuman\", \"identity_id\", \"power_id_1\", \"power_id_2\", \"power_id_3\")"
   ]
  },
  {
   "cell_type": "code",
   "execution_count": 73,
   "metadata": {
    "collapsed": false
   },
   "outputs": [
    {
     "name": "stdout",
     "output_type": "stream",
     "text": [
      "(1, 1, 2, 3)\n",
      "(2, 4, 5, 14)\n",
      "(3, 6, 14, 14)\n",
      "(4, 6, 7, 8)\n",
      "(5, 9, 10, 11)\n",
      "(6, 11, 12, 13)\n"
     ]
    }
   ],
   "source": [
    "my_cur.execute(\"SELECT * FROM superhuman\")\n",
    "my_rows = my_cur.fetchall()\n",
    "for row in my_rows:\n",
    "    print(row)"
   ]
  },
  {
   "cell_type": "code",
   "execution_count": null,
   "metadata": {
    "collapsed": true
   },
   "outputs": [],
   "source": []
  }
 ],
 "metadata": {
  "kernelspec": {
   "display_name": "Python 3",
   "language": "python",
   "name": "python3"
  },
  "language_info": {
   "codemirror_mode": {
    "name": "ipython",
    "version": 3
   },
   "file_extension": ".py",
   "mimetype": "text/x-python",
   "name": "python",
   "nbconvert_exporter": "python",
   "pygments_lexer": "ipython3",
   "version": "3.6.0"
  }
 },
 "nbformat": 4,
 "nbformat_minor": 2
}
