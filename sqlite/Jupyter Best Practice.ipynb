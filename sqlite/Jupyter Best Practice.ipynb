{
 "cells": [
  {
   "cell_type": "markdown",
   "metadata": {},
   "source": [
    "# Intro to Jupyter\n",
    "First thing first, you can run Python code in Jupyter"
   ]
  },
  {
   "cell_type": "code",
   "execution_count": 1,
   "metadata": {
    "collapsed": false
   },
   "outputs": [
    {
     "name": "stdout",
     "output_type": "stream",
     "text": [
      "Hello, Wordl!\n"
     ]
    }
   ],
   "source": [
    "print(\"Hello, Wordl!\")"
   ]
  },
  {
   "cell_type": "markdown",
   "metadata": {},
   "source": [
    "Objects and functions stick around from cell to cell: can define a function"
   ]
  },
  {
   "cell_type": "code",
   "execution_count": 2,
   "metadata": {
    "collapsed": true
   },
   "outputs": [],
   "source": [
    "def do_stuff():\n",
    "    print(\"Hello World Again\")"
   ]
  },
  {
   "cell_type": "code",
   "execution_count": 3,
   "metadata": {
    "collapsed": false
   },
   "outputs": [
    {
     "data": {
      "text/plain": [
       "<function __main__.do_stuff>"
      ]
     },
     "execution_count": 3,
     "metadata": {},
     "output_type": "execute_result"
    }
   ],
   "source": [
    "do_stuff"
   ]
  },
  {
   "cell_type": "code",
   "execution_count": 4,
   "metadata": {
    "collapsed": false
   },
   "outputs": [
    {
     "name": "stdout",
     "output_type": "stream",
     "text": [
      "Hello World Again\n"
     ]
    }
   ],
   "source": [
    "do_stuff()"
   ]
  },
  {
   "cell_type": "code",
   "execution_count": 5,
   "metadata": {
    "collapsed": true
   },
   "outputs": [],
   "source": [
    "import requests\n",
    "requests?"
   ]
  },
  {
   "cell_type": "markdown",
   "metadata": {},
   "source": [
    "# Markdown Cell"
   ]
  },
  {
   "cell_type": "markdown",
   "metadata": {},
   "source": [
    "## Time for some Magic!"
   ]
  },
  {
   "cell_type": "code",
   "execution_count": 6,
   "metadata": {
    "collapsed": false
   },
   "outputs": [
    {
     "data": {
      "application/json": {
       "cell": {
        "!": "OSMagics",
        "HTML": "Other",
        "SVG": "Other",
        "bash": "Other",
        "capture": "ExecutionMagics",
        "cmd": "Other",
        "debug": "ExecutionMagics",
        "file": "Other",
        "html": "DisplayMagics",
        "javascript": "DisplayMagics",
        "js": "DisplayMagics",
        "latex": "DisplayMagics",
        "perl": "Other",
        "prun": "ExecutionMagics",
        "pypy": "Other",
        "python": "Other",
        "python2": "Other",
        "python3": "Other",
        "ruby": "Other",
        "script": "ScriptMagics",
        "sh": "Other",
        "svg": "DisplayMagics",
        "sx": "OSMagics",
        "system": "OSMagics",
        "time": "ExecutionMagics",
        "timeit": "ExecutionMagics",
        "writefile": "OSMagics"
       },
       "line": {
        "alias": "OSMagics",
        "alias_magic": "BasicMagics",
        "autocall": "AutoMagics",
        "automagic": "AutoMagics",
        "autosave": "KernelMagics",
        "bookmark": "OSMagics",
        "cd": "OSMagics",
        "clear": "KernelMagics",
        "cls": "KernelMagics",
        "colors": "BasicMagics",
        "config": "ConfigMagics",
        "connect_info": "KernelMagics",
        "copy": "Other",
        "ddir": "Other",
        "debug": "ExecutionMagics",
        "dhist": "OSMagics",
        "dirs": "OSMagics",
        "doctest_mode": "BasicMagics",
        "echo": "Other",
        "ed": "Other",
        "edit": "KernelMagics",
        "env": "OSMagics",
        "gui": "BasicMagics",
        "hist": "Other",
        "history": "HistoryMagics",
        "killbgscripts": "ScriptMagics",
        "ldir": "Other",
        "less": "KernelMagics",
        "load": "CodeMagics",
        "load_ext": "ExtensionMagics",
        "loadpy": "CodeMagics",
        "logoff": "LoggingMagics",
        "logon": "LoggingMagics",
        "logstart": "LoggingMagics",
        "logstate": "LoggingMagics",
        "logstop": "LoggingMagics",
        "ls": "Other",
        "lsmagic": "BasicMagics",
        "macro": "ExecutionMagics",
        "magic": "BasicMagics",
        "matplotlib": "PylabMagics",
        "mkdir": "Other",
        "more": "KernelMagics",
        "notebook": "BasicMagics",
        "page": "BasicMagics",
        "pastebin": "CodeMagics",
        "pdb": "ExecutionMagics",
        "pdef": "NamespaceMagics",
        "pdoc": "NamespaceMagics",
        "pfile": "NamespaceMagics",
        "pinfo": "NamespaceMagics",
        "pinfo2": "NamespaceMagics",
        "popd": "OSMagics",
        "pprint": "BasicMagics",
        "precision": "BasicMagics",
        "profile": "BasicMagics",
        "prun": "ExecutionMagics",
        "psearch": "NamespaceMagics",
        "psource": "NamespaceMagics",
        "pushd": "OSMagics",
        "pwd": "OSMagics",
        "pycat": "OSMagics",
        "pylab": "PylabMagics",
        "qtconsole": "KernelMagics",
        "quickref": "BasicMagics",
        "recall": "HistoryMagics",
        "rehashx": "OSMagics",
        "reload_ext": "ExtensionMagics",
        "ren": "Other",
        "rep": "Other",
        "rerun": "HistoryMagics",
        "reset": "NamespaceMagics",
        "reset_selective": "NamespaceMagics",
        "rmdir": "Other",
        "run": "ExecutionMagics",
        "save": "CodeMagics",
        "sc": "OSMagics",
        "set_env": "OSMagics",
        "store": "StoreMagics",
        "sx": "OSMagics",
        "system": "OSMagics",
        "tb": "ExecutionMagics",
        "time": "ExecutionMagics",
        "timeit": "ExecutionMagics",
        "unalias": "OSMagics",
        "unload_ext": "ExtensionMagics",
        "who": "NamespaceMagics",
        "who_ls": "NamespaceMagics",
        "whos": "NamespaceMagics",
        "xdel": "NamespaceMagics",
        "xmode": "BasicMagics"
       }
      },
      "text/plain": [
       "Available line magics:\n",
       "%alias  %alias_magic  %autocall  %automagic  %autosave  %bookmark  %cd  %clear  %cls  %colors  %config  %connect_info  %copy  %ddir  %debug  %dhist  %dirs  %doctest_mode  %echo  %ed  %edit  %env  %gui  %hist  %history  %killbgscripts  %ldir  %less  %load  %load_ext  %loadpy  %logoff  %logon  %logstart  %logstate  %logstop  %ls  %lsmagic  %macro  %magic  %matplotlib  %mkdir  %more  %notebook  %page  %pastebin  %pdb  %pdef  %pdoc  %pfile  %pinfo  %pinfo2  %popd  %pprint  %precision  %profile  %prun  %psearch  %psource  %pushd  %pwd  %pycat  %pylab  %qtconsole  %quickref  %recall  %rehashx  %reload_ext  %ren  %rep  %rerun  %reset  %reset_selective  %rmdir  %run  %save  %sc  %set_env  %store  %sx  %system  %tb  %time  %timeit  %unalias  %unload_ext  %who  %who_ls  %whos  %xdel  %xmode\n",
       "\n",
       "Available cell magics:\n",
       "%%!  %%HTML  %%SVG  %%bash  %%capture  %%cmd  %%debug  %%file  %%html  %%javascript  %%js  %%latex  %%perl  %%prun  %%pypy  %%python  %%python2  %%python3  %%ruby  %%script  %%sh  %%svg  %%sx  %%system  %%time  %%timeit  %%writefile\n",
       "\n",
       "Automagic is ON, % prefix IS NOT needed for line magics."
      ]
     },
     "execution_count": 6,
     "metadata": {},
     "output_type": "execute_result"
    }
   ],
   "source": [
    "%lsmagic"
   ]
  },
  {
   "cell_type": "code",
   "execution_count": 8,
   "metadata": {
    "collapsed": false
   },
   "outputs": [
    {
     "name": "stdout",
     "output_type": "stream",
     "text": [
      " Volume in drive C has no label.\n",
      " Volume Serial Number is 36F2-291D\n",
      "\n",
      " Directory of C:\\Django\\PythonL2\n",
      "\n",
      "03/09/2017  04:11 PM    <DIR>          .\n",
      "03/09/2017  04:11 PM    <DIR>          ..\n",
      "03/09/2017  04:00 PM    <DIR>          .ipynb_checkpoints\n",
      "03/09/2017  04:11 PM            24,905 Jupyter Best Practice.ipynb\n",
      "03/09/2017  03:00 PM             4,413 Object Oriented Programming Python.ipynb\n",
      "02/28/2017  02:08 PM             1,060 Scope.ipynb\n",
      "03/03/2017  11:50 AM             1,184 sqlite_python.py\n",
      "03/02/2017  02:14 PM            12,288 test.db\n",
      "               5 File(s)         43,850 bytes\n",
      "               3 Dir(s)  167,035,875,328 bytes free\n"
     ]
    }
   ],
   "source": [
    "%ls"
   ]
  },
  {
   "cell_type": "code",
   "execution_count": 9,
   "metadata": {
    "collapsed": true
   },
   "outputs": [],
   "source": [
    "%magic"
   ]
  },
  {
   "cell_type": "code",
   "execution_count": 10,
   "metadata": {
    "collapsed": false
   },
   "outputs": [
    {
     "name": "stdout",
     "output_type": "stream",
     "text": [
      "Do you have time?\n",
      "Wall time: 0 ns\n"
     ]
    }
   ],
   "source": [
    "%time print(\"Do you have time?\")"
   ]
  },
  {
   "cell_type": "code",
   "execution_count": 11,
   "metadata": {
    "collapsed": false
   },
   "outputs": [
    {
     "name": "stdout",
     "output_type": "stream",
     "text": [
      "1000000 loops, best of 3: 717 ns per loop\n"
     ]
    }
   ],
   "source": [
    "%%timeit\n",
    "x = 0\n",
    "for i in range(10): x += i"
   ]
  },
  {
   "cell_type": "code",
   "execution_count": 12,
   "metadata": {
    "collapsed": false
   },
   "outputs": [
    {
     "name": "stdout",
     "output_type": "stream",
     "text": [
      "<!DOCTYPE HTML>\n",
      "<html>\n",
      "\n",
      "<head>\n",
      "    <meta charset=\"utf-8\">\n",
      "\n",
      "    <title>Jupyter Notebook</title>\n",
      "    <link rel=\"shortcut icon\" type=\"image/x-icon\" href=\"/static/base/images/favicon.ico?v=97c6417ed01bdc0ae3ef32ae4894fd03\">\n",
      "    <meta http-equiv=\"X-UA-Compatible\" content=\"IE=edge\" />\n",
      "    <link rel=\"stylesheet\" href=\"/static/components/jquery-ui/themes/smoothness/jquery-ui.min.css?v=9b2c8d3489227115310662a343fce11c\" type=\"text/css\" />\n",
      "    <link rel=\"stylesheet\" href=\"/static/components/jquery-typeahead/dist/jquery.typeahead.min.css?v=7afb461de36accb1aa133a1710f5bc56\" type=\"text/css\" />\n",
      "    <meta name=\"viewport\" content=\"width=device-width, initial-scale=1.0\">\n",
      "    \n",
      "    \n",
      "\n",
      "    <link rel=\"stylesheet\" href=\"/static/style/style.min.css?v=974839a888beb55bbba87883fafd90fa\" type=\"text/css\"/>\n",
      "    \n",
      "<style type=\"text/css\">\n",
      "/* disable initial hide */\n",
      "div#header, div#site {\n",
      "    display: block;\n",
      "}\n",
      "</style>\n",
      "\n",
      "    <link rel=\"stylesheet\" href=\"/custom/custom.css\" type=\"text/css\" />\n",
      "    <script src=\"/static/components/es6-promise/promise.min.js?v=f004a16cb856e0ff11781d01ec5ca8fe\" type=\"text/javascript\" charset=\"utf-8\"></script>\n",
      "    <script src=\"/static/components/requirejs/require.js?v=6da8be361b9ee26c5e721e76c6d4afce\" type=\"text/javascript\" charset=\"utf-8\"></script>\n",
      "    <script>\n",
      "      require.config({\n",
      "          \n",
      "          urlArgs: \"v=20170309141831\",\n",
      "          \n",
      "          baseUrl: '/static/',\n",
      "          paths: {\n",
      "            'auth/js/main': 'auth/js/main.min',\n",
      "            custom : '/custom',\n",
      "            nbextensions : '/nbextensions',\n",
      "            kernelspecs : '/kernelspecs',\n",
      "            underscore : 'components/underscore/underscore-min',\n",
      "            backbone : 'components/backbone/backbone-min',\n",
      "            jquery: 'components/jquery/jquery.min',\n",
      "            bootstrap: 'components/bootstrap/js/bootstrap.min',\n",
      "            bootstraptour: 'components/bootstrap-tour/build/js/bootstrap-tour.min',\n",
      "            'jquery-ui': 'components/jquery-ui/ui/minified/jquery-ui.min',\n",
      "            moment: 'components/moment/moment',\n",
      "            codemirror: 'components/codemirror',\n",
      "            termjs: 'components/xterm.js/dist/xterm',\n",
      "            typeahead: 'components/jquery-typeahead/dist/jquery.typeahead.min',\n",
      "          },\n",
      "\t  map: { // for backward compatibility\n",
      "\t    \"*\": {\n",
      "\t\t\"jqueryui\": \"jquery-ui\",\n",
      "\t    }\n",
      "\t  },\n",
      "          shim: {\n",
      "            typeahead: {\n",
      "              deps: [\"jquery\"],\n",
      "              exports: \"typeahead\"\n",
      "            },\n",
      "            underscore: {\n",
      "              exports: '_'\n",
      "            },\n",
      "            backbone: {\n",
      "              deps: [\"underscore\", \"jquery\"],\n",
      "              exports: \"Backbone\"\n",
      "            },\n",
      "            bootstrap: {\n",
      "              deps: [\"jquery\"],\n",
      "              exports: \"bootstrap\"\n",
      "            },\n",
      "            bootstraptour: {\n",
      "              deps: [\"bootstrap\"],\n",
      "              exports: \"Tour\"\n",
      "            },\n",
      "            \"jquery-ui\": {\n",
      "              deps: [\"jquery\"],\n",
      "              exports: \"$\"\n",
      "            }\n",
      "          },\n",
      "          waitSeconds: 30,\n",
      "      });\n",
      "\n",
      "      require.config({\n",
      "          map: {\n",
      "              '*':{\n",
      "                'contents': 'services/contents',\n",
      "              }\n",
      "          }\n",
      "      });\n",
      "\n",
      "      define(\"bootstrap\", function () {\n",
      "          return window.$;\n",
      "      });\n",
      "\n",
      "      define(\"jquery\", function () {\n",
      "          return window.$;\n",
      "      });\n",
      "\n",
      "      define(\"jqueryui\", function () {\n",
      "          return window.$;\n",
      "      });\n",
      "\n",
      "      define(\"jquery-ui\", function () {\n",
      "          return window.$;\n",
      "      });\n",
      "      // error-catching custom.js shim.\n",
      "      define(\"custom\", function (require, exports, module) {\n",
      "          try {\n",
      "              var custom = require('custom/custom');\n",
      "              console.debug('loaded custom.js');\n",
      "              return custom;\n",
      "          } catch (e) {\n",
      "              console.error(\"error loading custom.js\", e);\n",
      "              return {};\n",
      "          }\n",
      "      })\n",
      "    </script>\n",
      "\n",
      "    \n",
      "    \n",
      "\n",
      "</head>\n",
      "\n",
      "<body class=\"\"\n",
      " \n",
      "  \n",
      " \n",
      ">\n",
      "\n",
      "<noscript>\n",
      "    <div id='noscript'>\n",
      "      Jupyter Notebook requires JavaScript.<br>\n",
      "      Please enable it to proceed.\n",
      "  </div>\n",
      "</noscript>\n",
      "\n",
      "<div id=\"header\">\n",
      "  <div id=\"header-container\" class=\"container\">\n",
      "  <div id=\"ipython_notebook\" class=\"nav navbar-brand pull-left\"><a href=\"/tree\" title='dashboard'><img src='/static/base/images/logo.png?v=641991992878ee24c6f3826e81054a0f' alt='Jupyter Notebook'/></a></div>\n",
      "\n",
      "  \n",
      "  \n",
      "  \n",
      "\n",
      "\n",
      "  \n",
      "\n",
      "  \n",
      "  \n",
      "  </div>\n",
      "  <div class=\"header-bar\"></div>\n",
      "\n",
      "  \n",
      "  \n",
      "</div>\n",
      "\n",
      "<div id=\"site\">\n",
      "\n",
      "\n",
      "<div class=\"error\">\n",
      "    \n",
      "    <h1>404 : Not Found</h1>\n",
      "    \n",
      "    \n",
      "<p>You are requesting a page that does not exist!</p>\n",
      "\n",
      "</header>\n",
      "\n",
      "\n",
      "</div>\n",
      "\n",
      "\n",
      "\n",
      "\n",
      "\n",
      "\n",
      "\n",
      "</body>\n",
      "\n",
      "</html>"
     ]
    },
    {
     "name": "stderr",
     "output_type": "stream",
     "text": [
      "  % Total    % Received % Xferd  Average Speed   Time    Time     Time  Current\r\n",
      "                                 Dload  Upload   Total   Spent    Left  Speed\r\n",
      "\r",
      "  0     0    0     0    0     0      0      0 --:--:-- --:--:-- --:--:--     0\r",
      "100  4552  100  4552    0     0   277k      0 --:--:-- --:--:-- --:--:--  277k\r\n"
     ]
    }
   ],
   "source": [
    "%%bash\n",
    "\n",
    "curl http://localhost:8888/get"
   ]
  },
  {
   "cell_type": "markdown",
   "metadata": {},
   "source": [
    "## Third Party Magic"
   ]
  },
  {
   "cell_type": "code",
   "execution_count": 29,
   "metadata": {
    "collapsed": false
   },
   "outputs": [
    {
     "name": "stdout",
     "output_type": "stream",
     "text": [
      "The sql extension is already loaded. To reload it, use:\n",
      "  %reload_ext sql\n"
     ]
    }
   ],
   "source": [
    "%load_ext sql"
   ]
  },
  {
   "cell_type": "code",
   "execution_count": 30,
   "metadata": {
    "collapsed": false
   },
   "outputs": [
    {
     "data": {
      "text/plain": [
       "'Connected: None@None'"
      ]
     },
     "execution_count": 30,
     "metadata": {},
     "output_type": "execute_result"
    }
   ],
   "source": [
    "%sql sqlite://"
   ]
  },
  {
   "cell_type": "code",
   "execution_count": 31,
   "metadata": {
    "collapsed": false
   },
   "outputs": [
    {
     "name": "stdout",
     "output_type": "stream",
     "text": [
      "Done.\n",
      "0 rows affected.\n",
      "1 rows affected.\n",
      "1 rows affected.\n",
      "1 rows affected.\n",
      "1 rows affected.\n",
      "1 rows affected.\n",
      "1 rows affected.\n",
      "1 rows affected.\n",
      "1 rows affected.\n",
      "1 rows affected.\n",
      "1 rows affected.\n",
      "1 rows affected.\n",
      "1 rows affected.\n",
      "1 rows affected.\n"
     ]
    },
    {
     "data": {
      "text/plain": [
       "[]"
      ]
     },
     "execution_count": 31,
     "metadata": {},
     "output_type": "execute_result"
    }
   ],
   "source": [
    "%%sql\n",
    "DROP TABLE IF EXISTS Employees;\n",
    "CREATE TABLE Employees(ID INTEGER PRIMARY KEY AUTOINCREMENT NOT NULL, Fname TEXT NOT NULL, Lname TEXT NOT NULL, Age INTEGER NOT NULL, Address TEXT, Salary REAL, HireDate TEXT, 'Profile' TEXT);\n",
    "INSERT INTO \"Employees\" VALUES(1,'Isaac','Zhou',32,'Hawaii',5000000.0,'2017-03-02','acebigdata');\n",
    "INSERT INTO \"Employees\" VALUES(3,'Isaac','Zhou',32,'New York, NY',5000000.0,'2017-03-02',NULL);\n",
    "INSERT INTO \"Employees\" VALUES(4,'Isaac','Zhou',32,'New York, NY',5000000.0,'2017-03-02',NULL);\n",
    "INSERT INTO \"Employees\" VALUES(5,'Isaac','Zhou',32,'New York, NY',5000000.0,'2017-03-02',NULL);\n",
    "INSERT INTO \"Employees\" VALUES(6,'Isaac','Zhou',32,'New York, NY',5000000.0,'2017-03-02',NULL);\n",
    "INSERT INTO \"Employees\" VALUES(7,'Isaac','Zhou',32,'New York, NY',5000000.0,'2017-03-02',NULL);\n",
    "INSERT INTO \"Employees\" VALUES(8,'Isaac','Zhou',32,'New York, NY',5000000.0,'2017-03-02',NULL);\n",
    "INSERT INTO \"Employees\" VALUES(9,'Isaac','Zhou',32,'New York, NY',5000000.0,'2017-03-02',NULL);\n",
    "INSERT INTO \"Employees\" VALUES(10,'Isaac','Zhou',32,'New York, NY',5000000.0,'2017-03-02',NULL);\n",
    "INSERT INTO \"Employees\" VALUES(11,'Isaac','Zhou',32,'New York, NY',5000000.0,'2017-03-02',NULL);\n",
    "INSERT INTO \"Employees\" VALUES(12,'Isaac','Zhou',32,'New York, NY',5000000.0,'2017-03-02',NULL);\n",
    "INSERT INTO \"Employees\" VALUES(13,'Isaac','Zhou',32,'New York, NY',5000000.0,'2017-03-02',NULL);\n",
    "INSERT INTO \"Employees\" VALUES(14,'Isaac','Zhou',32,'New York, NY',5000000.0,'2017-03-02',NULL);"
   ]
  },
  {
   "cell_type": "code",
   "execution_count": 32,
   "metadata": {
    "collapsed": false
   },
   "outputs": [
    {
     "name": "stdout",
     "output_type": "stream",
     "text": [
      "Done.\n"
     ]
    },
    {
     "data": {
      "text/html": [
       "<table>\n",
       "    <tr>\n",
       "        <th>ID</th>\n",
       "        <th>Fname</th>\n",
       "        <th>Lname</th>\n",
       "        <th>Age</th>\n",
       "        <th>Address</th>\n",
       "        <th>Salary</th>\n",
       "        <th>HireDate</th>\n",
       "        <th>Profile</th>\n",
       "    </tr>\n",
       "    <tr>\n",
       "        <td>1</td>\n",
       "        <td>Isaac</td>\n",
       "        <td>Zhou</td>\n",
       "        <td>32</td>\n",
       "        <td>Hawaii</td>\n",
       "        <td>5000000.0</td>\n",
       "        <td>2017-03-02</td>\n",
       "        <td>acebigdata</td>\n",
       "    </tr>\n",
       "    <tr>\n",
       "        <td>3</td>\n",
       "        <td>Isaac</td>\n",
       "        <td>Zhou</td>\n",
       "        <td>32</td>\n",
       "        <td>New York, NY</td>\n",
       "        <td>5000000.0</td>\n",
       "        <td>2017-03-02</td>\n",
       "        <td>None</td>\n",
       "    </tr>\n",
       "    <tr>\n",
       "        <td>4</td>\n",
       "        <td>Isaac</td>\n",
       "        <td>Zhou</td>\n",
       "        <td>32</td>\n",
       "        <td>New York, NY</td>\n",
       "        <td>5000000.0</td>\n",
       "        <td>2017-03-02</td>\n",
       "        <td>None</td>\n",
       "    </tr>\n",
       "    <tr>\n",
       "        <td>5</td>\n",
       "        <td>Isaac</td>\n",
       "        <td>Zhou</td>\n",
       "        <td>32</td>\n",
       "        <td>New York, NY</td>\n",
       "        <td>5000000.0</td>\n",
       "        <td>2017-03-02</td>\n",
       "        <td>None</td>\n",
       "    </tr>\n",
       "    <tr>\n",
       "        <td>6</td>\n",
       "        <td>Isaac</td>\n",
       "        <td>Zhou</td>\n",
       "        <td>32</td>\n",
       "        <td>New York, NY</td>\n",
       "        <td>5000000.0</td>\n",
       "        <td>2017-03-02</td>\n",
       "        <td>None</td>\n",
       "    </tr>\n",
       "    <tr>\n",
       "        <td>7</td>\n",
       "        <td>Isaac</td>\n",
       "        <td>Zhou</td>\n",
       "        <td>32</td>\n",
       "        <td>New York, NY</td>\n",
       "        <td>5000000.0</td>\n",
       "        <td>2017-03-02</td>\n",
       "        <td>None</td>\n",
       "    </tr>\n",
       "    <tr>\n",
       "        <td>8</td>\n",
       "        <td>Isaac</td>\n",
       "        <td>Zhou</td>\n",
       "        <td>32</td>\n",
       "        <td>New York, NY</td>\n",
       "        <td>5000000.0</td>\n",
       "        <td>2017-03-02</td>\n",
       "        <td>None</td>\n",
       "    </tr>\n",
       "    <tr>\n",
       "        <td>9</td>\n",
       "        <td>Isaac</td>\n",
       "        <td>Zhou</td>\n",
       "        <td>32</td>\n",
       "        <td>New York, NY</td>\n",
       "        <td>5000000.0</td>\n",
       "        <td>2017-03-02</td>\n",
       "        <td>None</td>\n",
       "    </tr>\n",
       "    <tr>\n",
       "        <td>10</td>\n",
       "        <td>Isaac</td>\n",
       "        <td>Zhou</td>\n",
       "        <td>32</td>\n",
       "        <td>New York, NY</td>\n",
       "        <td>5000000.0</td>\n",
       "        <td>2017-03-02</td>\n",
       "        <td>None</td>\n",
       "    </tr>\n",
       "    <tr>\n",
       "        <td>11</td>\n",
       "        <td>Isaac</td>\n",
       "        <td>Zhou</td>\n",
       "        <td>32</td>\n",
       "        <td>New York, NY</td>\n",
       "        <td>5000000.0</td>\n",
       "        <td>2017-03-02</td>\n",
       "        <td>None</td>\n",
       "    </tr>\n",
       "    <tr>\n",
       "        <td>12</td>\n",
       "        <td>Isaac</td>\n",
       "        <td>Zhou</td>\n",
       "        <td>32</td>\n",
       "        <td>New York, NY</td>\n",
       "        <td>5000000.0</td>\n",
       "        <td>2017-03-02</td>\n",
       "        <td>None</td>\n",
       "    </tr>\n",
       "    <tr>\n",
       "        <td>13</td>\n",
       "        <td>Isaac</td>\n",
       "        <td>Zhou</td>\n",
       "        <td>32</td>\n",
       "        <td>New York, NY</td>\n",
       "        <td>5000000.0</td>\n",
       "        <td>2017-03-02</td>\n",
       "        <td>None</td>\n",
       "    </tr>\n",
       "    <tr>\n",
       "        <td>14</td>\n",
       "        <td>Isaac</td>\n",
       "        <td>Zhou</td>\n",
       "        <td>32</td>\n",
       "        <td>New York, NY</td>\n",
       "        <td>5000000.0</td>\n",
       "        <td>2017-03-02</td>\n",
       "        <td>None</td>\n",
       "    </tr>\n",
       "</table>"
      ],
      "text/plain": [
       "[(1, 'Isaac', 'Zhou', 32, 'Hawaii', 5000000.0, '2017-03-02', 'acebigdata'),\n",
       " (3, 'Isaac', 'Zhou', 32, 'New York, NY', 5000000.0, '2017-03-02', None),\n",
       " (4, 'Isaac', 'Zhou', 32, 'New York, NY', 5000000.0, '2017-03-02', None),\n",
       " (5, 'Isaac', 'Zhou', 32, 'New York, NY', 5000000.0, '2017-03-02', None),\n",
       " (6, 'Isaac', 'Zhou', 32, 'New York, NY', 5000000.0, '2017-03-02', None),\n",
       " (7, 'Isaac', 'Zhou', 32, 'New York, NY', 5000000.0, '2017-03-02', None),\n",
       " (8, 'Isaac', 'Zhou', 32, 'New York, NY', 5000000.0, '2017-03-02', None),\n",
       " (9, 'Isaac', 'Zhou', 32, 'New York, NY', 5000000.0, '2017-03-02', None),\n",
       " (10, 'Isaac', 'Zhou', 32, 'New York, NY', 5000000.0, '2017-03-02', None),\n",
       " (11, 'Isaac', 'Zhou', 32, 'New York, NY', 5000000.0, '2017-03-02', None),\n",
       " (12, 'Isaac', 'Zhou', 32, 'New York, NY', 5000000.0, '2017-03-02', None),\n",
       " (13, 'Isaac', 'Zhou', 32, 'New York, NY', 5000000.0, '2017-03-02', None),\n",
       " (14, 'Isaac', 'Zhou', 32, 'New York, NY', 5000000.0, '2017-03-02', None)]"
      ]
     },
     "execution_count": 32,
     "metadata": {},
     "output_type": "execute_result"
    }
   ],
   "source": [
    "%sql SELECT * FROM Employees"
   ]
  },
  {
   "cell_type": "code",
   "execution_count": 37,
   "metadata": {
    "collapsed": false
   },
   "outputs": [
    {
     "name": "stdout",
     "output_type": "stream",
     "text": [
      "Done.\n"
     ]
    },
    {
     "data": {
      "image/png": "[encoded data removed]",
      "text/plain": [
       "<matplotlib.figure.Figure at 0xb1b2898>"
      ]
     },
     "metadata": {},
     "output_type": "display_data"
    }
   ],
   "source": [
    "%matplotlib inline\n",
    "data = %sql SELECT * FROM Employees\n",
    "data.pie()\n",
    "None"
   ]
  },
  {
   "cell_type": "code",
   "execution_count": 38,
   "metadata": {
    "collapsed": false
   },
   "outputs": [
    {
     "data": {
      "text/plain": [
       "<seaborn.axisgrid.PairGrid at 0xc3efc88>"
      ]
     },
     "execution_count": 38,
     "metadata": {},
     "output_type": "execute_result"
    },
    {
     "data": {
      "image/png": "[encoded data removed]",
      "text/plain": [
       "<matplotlib.figure.Figure at 0xd44c8d0>"
      ]
     },
     "metadata": {},
     "output_type": "display_data"
    }
   ],
   "source": [
    "import seaborn as sns\n",
    "sns.set()\n",
    "\n",
    "df = sns.load_dataset(\"iris\")\n",
    "sns.pairplot(df, hue = \"species\")"
   ]
  },
  {
   "cell_type": "code",
   "execution_count": 1,
   "metadata": {
    "collapsed": false
   },
   "outputs": [
    {
     "ename": "FileNotFoundError",
     "evalue": "File b'EBT.csv' does not exist",
     "output_type": "error",
     "traceback": [
      "\u001b[0;31m---------------------------------------------------------------------------\u001b[0m",
      "\u001b[0;31mFileNotFoundError\u001b[0m                         Traceback (most recent call last)",
      "\u001b[0;32m<ipython-input-1-80ea9272087f>\u001b[0m in \u001b[0;36m<module>\u001b[0;34m()\u001b[0m\n\u001b[1;32m      1\u001b[0m \u001b[1;32mimport\u001b[0m \u001b[0mpandas\u001b[0m \u001b[1;32mas\u001b[0m \u001b[0mpd\u001b[0m\u001b[1;33m\u001b[0m\u001b[0m\n\u001b[0;32m----> 2\u001b[0;31m \u001b[0mdf\u001b[0m \u001b[1;33m=\u001b[0m \u001b[0mpd\u001b[0m\u001b[1;33m.\u001b[0m\u001b[0mread_csv\u001b[0m\u001b[1;33m(\u001b[0m\u001b[1;34m\"EBT.csv\"\u001b[0m\u001b[1;33m,\u001b[0m \u001b[0mencoding\u001b[0m \u001b[1;33m=\u001b[0m \u001b[1;34m\"ISO-8859-1\"\u001b[0m\u001b[1;33m)\u001b[0m\u001b[1;33m\u001b[0m\u001b[0m\n\u001b[0m\u001b[1;32m      3\u001b[0m \u001b[0mdf\u001b[0m\u001b[1;33m.\u001b[0m\u001b[0mhead\u001b[0m\u001b[1;33m(\u001b[0m\u001b[1;33m)\u001b[0m\u001b[1;33m\u001b[0m\u001b[0m\n",
      "\u001b[0;32mC:\\ProgramData\\Anaconda3\\lib\\site-packages\\pandas\\io\\parsers.py\u001b[0m in \u001b[0;36mparser_f\u001b[0;34m(filepath_or_buffer, sep, delimiter, header, names, index_col, usecols, squeeze, prefix, mangle_dupe_cols, dtype, engine, converters, true_values, false_values, skipinitialspace, skiprows, nrows, na_values, keep_default_na, na_filter, verbose, skip_blank_lines, parse_dates, infer_datetime_format, keep_date_col, date_parser, dayfirst, iterator, chunksize, compression, thousands, decimal, lineterminator, quotechar, quoting, escapechar, comment, encoding, dialect, tupleize_cols, error_bad_lines, warn_bad_lines, skipfooter, skip_footer, doublequote, delim_whitespace, as_recarray, compact_ints, use_unsigned, low_memory, buffer_lines, memory_map, float_precision)\u001b[0m\n\u001b[1;32m    644\u001b[0m                     skip_blank_lines=skip_blank_lines)\n\u001b[1;32m    645\u001b[0m \u001b[1;33m\u001b[0m\u001b[0m\n\u001b[0;32m--> 646\u001b[0;31m         \u001b[1;32mreturn\u001b[0m \u001b[0m_read\u001b[0m\u001b[1;33m(\u001b[0m\u001b[0mfilepath_or_buffer\u001b[0m\u001b[1;33m,\u001b[0m \u001b[0mkwds\u001b[0m\u001b[1;33m)\u001b[0m\u001b[1;33m\u001b[0m\u001b[0m\n\u001b[0m\u001b[1;32m    647\u001b[0m \u001b[1;33m\u001b[0m\u001b[0m\n\u001b[1;32m    648\u001b[0m     \u001b[0mparser_f\u001b[0m\u001b[1;33m.\u001b[0m\u001b[0m__name__\u001b[0m \u001b[1;33m=\u001b[0m \u001b[0mname\u001b[0m\u001b[1;33m\u001b[0m\u001b[0m\n",
      "\u001b[0;32mC:\\ProgramData\\Anaconda3\\lib\\site-packages\\pandas\\io\\parsers.py\u001b[0m in \u001b[0;36m_read\u001b[0;34m(filepath_or_buffer, kwds)\u001b[0m\n\u001b[1;32m    387\u001b[0m \u001b[1;33m\u001b[0m\u001b[0m\n\u001b[1;32m    388\u001b[0m     \u001b[1;31m# Create the parser.\u001b[0m\u001b[1;33m\u001b[0m\u001b[1;33m\u001b[0m\u001b[0m\n\u001b[0;32m--> 389\u001b[0;31m     \u001b[0mparser\u001b[0m \u001b[1;33m=\u001b[0m \u001b[0mTextFileReader\u001b[0m\u001b[1;33m(\u001b[0m\u001b[0mfilepath_or_buffer\u001b[0m\u001b[1;33m,\u001b[0m \u001b[1;33m**\u001b[0m\u001b[0mkwds\u001b[0m\u001b[1;33m)\u001b[0m\u001b[1;33m\u001b[0m\u001b[0m\n\u001b[0m\u001b[1;32m    390\u001b[0m \u001b[1;33m\u001b[0m\u001b[0m\n\u001b[1;32m    391\u001b[0m     \u001b[1;32mif\u001b[0m \u001b[1;33m(\u001b[0m\u001b[0mnrows\u001b[0m \u001b[1;32mis\u001b[0m \u001b[1;32mnot\u001b[0m \u001b[1;32mNone\u001b[0m\u001b[1;33m)\u001b[0m \u001b[1;32mand\u001b[0m \u001b[1;33m(\u001b[0m\u001b[0mchunksize\u001b[0m \u001b[1;32mis\u001b[0m \u001b[1;32mnot\u001b[0m \u001b[1;32mNone\u001b[0m\u001b[1;33m)\u001b[0m\u001b[1;33m:\u001b[0m\u001b[1;33m\u001b[0m\u001b[0m\n",
      "\u001b[0;32mC:\\ProgramData\\Anaconda3\\lib\\site-packages\\pandas\\io\\parsers.py\u001b[0m in \u001b[0;36m__init__\u001b[0;34m(self, f, engine, **kwds)\u001b[0m\n\u001b[1;32m    728\u001b[0m             \u001b[0mself\u001b[0m\u001b[1;33m.\u001b[0m\u001b[0moptions\u001b[0m\u001b[1;33m[\u001b[0m\u001b[1;34m'has_index_names'\u001b[0m\u001b[1;33m]\u001b[0m \u001b[1;33m=\u001b[0m \u001b[0mkwds\u001b[0m\u001b[1;33m[\u001b[0m\u001b[1;34m'has_index_names'\u001b[0m\u001b[1;33m]\u001b[0m\u001b[1;33m\u001b[0m\u001b[0m\n\u001b[1;32m    729\u001b[0m \u001b[1;33m\u001b[0m\u001b[0m\n\u001b[0;32m--> 730\u001b[0;31m         \u001b[0mself\u001b[0m\u001b[1;33m.\u001b[0m\u001b[0m_make_engine\u001b[0m\u001b[1;33m(\u001b[0m\u001b[0mself\u001b[0m\u001b[1;33m.\u001b[0m\u001b[0mengine\u001b[0m\u001b[1;33m)\u001b[0m\u001b[1;33m\u001b[0m\u001b[0m\n\u001b[0m\u001b[1;32m    731\u001b[0m \u001b[1;33m\u001b[0m\u001b[0m\n\u001b[1;32m    732\u001b[0m     \u001b[1;32mdef\u001b[0m \u001b[0mclose\u001b[0m\u001b[1;33m(\u001b[0m\u001b[0mself\u001b[0m\u001b[1;33m)\u001b[0m\u001b[1;33m:\u001b[0m\u001b[1;33m\u001b[0m\u001b[0m\n",
      "\u001b[0;32mC:\\ProgramData\\Anaconda3\\lib\\site-packages\\pandas\\io\\parsers.py\u001b[0m in \u001b[0;36m_make_engine\u001b[0;34m(self, engine)\u001b[0m\n\u001b[1;32m    921\u001b[0m     \u001b[1;32mdef\u001b[0m \u001b[0m_make_engine\u001b[0m\u001b[1;33m(\u001b[0m\u001b[0mself\u001b[0m\u001b[1;33m,\u001b[0m \u001b[0mengine\u001b[0m\u001b[1;33m=\u001b[0m\u001b[1;34m'c'\u001b[0m\u001b[1;33m)\u001b[0m\u001b[1;33m:\u001b[0m\u001b[1;33m\u001b[0m\u001b[0m\n\u001b[1;32m    922\u001b[0m         \u001b[1;32mif\u001b[0m \u001b[0mengine\u001b[0m \u001b[1;33m==\u001b[0m \u001b[1;34m'c'\u001b[0m\u001b[1;33m:\u001b[0m\u001b[1;33m\u001b[0m\u001b[0m\n\u001b[0;32m--> 923\u001b[0;31m             \u001b[0mself\u001b[0m\u001b[1;33m.\u001b[0m\u001b[0m_engine\u001b[0m \u001b[1;33m=\u001b[0m \u001b[0mCParserWrapper\u001b[0m\u001b[1;33m(\u001b[0m\u001b[0mself\u001b[0m\u001b[1;33m.\u001b[0m\u001b[0mf\u001b[0m\u001b[1;33m,\u001b[0m \u001b[1;33m**\u001b[0m\u001b[0mself\u001b[0m\u001b[1;33m.\u001b[0m\u001b[0moptions\u001b[0m\u001b[1;33m)\u001b[0m\u001b[1;33m\u001b[0m\u001b[0m\n\u001b[0m\u001b[1;32m    924\u001b[0m         \u001b[1;32melse\u001b[0m\u001b[1;33m:\u001b[0m\u001b[1;33m\u001b[0m\u001b[0m\n\u001b[1;32m    925\u001b[0m             \u001b[1;32mif\u001b[0m \u001b[0mengine\u001b[0m \u001b[1;33m==\u001b[0m \u001b[1;34m'python'\u001b[0m\u001b[1;33m:\u001b[0m\u001b[1;33m\u001b[0m\u001b[0m\n",
      "\u001b[0;32mC:\\ProgramData\\Anaconda3\\lib\\site-packages\\pandas\\io\\parsers.py\u001b[0m in \u001b[0;36m__init__\u001b[0;34m(self, src, **kwds)\u001b[0m\n\u001b[1;32m   1388\u001b[0m         \u001b[0mkwds\u001b[0m\u001b[1;33m[\u001b[0m\u001b[1;34m'allow_leading_cols'\u001b[0m\u001b[1;33m]\u001b[0m \u001b[1;33m=\u001b[0m \u001b[0mself\u001b[0m\u001b[1;33m.\u001b[0m\u001b[0mindex_col\u001b[0m \u001b[1;32mis\u001b[0m \u001b[1;32mnot\u001b[0m \u001b[1;32mFalse\u001b[0m\u001b[1;33m\u001b[0m\u001b[0m\n\u001b[1;32m   1389\u001b[0m \u001b[1;33m\u001b[0m\u001b[0m\n\u001b[0;32m-> 1390\u001b[0;31m         \u001b[0mself\u001b[0m\u001b[1;33m.\u001b[0m\u001b[0m_reader\u001b[0m \u001b[1;33m=\u001b[0m \u001b[0m_parser\u001b[0m\u001b[1;33m.\u001b[0m\u001b[0mTextReader\u001b[0m\u001b[1;33m(\u001b[0m\u001b[0msrc\u001b[0m\u001b[1;33m,\u001b[0m \u001b[1;33m**\u001b[0m\u001b[0mkwds\u001b[0m\u001b[1;33m)\u001b[0m\u001b[1;33m\u001b[0m\u001b[0m\n\u001b[0m\u001b[1;32m   1391\u001b[0m \u001b[1;33m\u001b[0m\u001b[0m\n\u001b[1;32m   1392\u001b[0m         \u001b[1;31m# XXX\u001b[0m\u001b[1;33m\u001b[0m\u001b[1;33m\u001b[0m\u001b[0m\n",
      "\u001b[0;32mpandas\\parser.pyx\u001b[0m in \u001b[0;36mpandas.parser.TextReader.__cinit__ (pandas\\parser.c:4184)\u001b[0;34m()\u001b[0m\n",
      "\u001b[0;32mpandas\\parser.pyx\u001b[0m in \u001b[0;36mpandas.parser.TextReader._setup_parser_source (pandas\\parser.c:8449)\u001b[0;34m()\u001b[0m\n",
      "\u001b[0;31mFileNotFoundError\u001b[0m: File b'EBT.csv' does not exist"
     ]
    }
   ],
   "source": [
    "import pandas as pd\n",
    "df = pd.read_csv(\"EBT.csv\", encoding = \"ISO-8859-1\")\n",
    "df.head()"
   ]
  },
  {
   "cell_type": "code",
   "execution_count": 22,
   "metadata": {
    "collapsed": false
   },
   "outputs": [
    {
     "data": {
      "text/html": [
       "<div>\n",
       "<table border=\"1\" class=\"dataframe\">\n",
       "  <thead>\n",
       "    <tr style=\"text-align: right;\">\n",
       "      <th></th>\n",
       "      <th>Company Name</th>\n",
       "      <th>Exchange:Ticker</th>\n",
       "      <th>Country</th>\n",
       "      <th>Region</th>\n",
       "      <th>Primary Industry</th>\n",
       "      <th>AV Industry</th>\n",
       "      <th>AV Sector</th>\n",
       "      <th>FY1997</th>\n",
       "      <th>FY1998</th>\n",
       "      <th>FY1999</th>\n",
       "      <th>...</th>\n",
       "      <th>FY2009</th>\n",
       "      <th>FY2010</th>\n",
       "      <th>FY2011</th>\n",
       "      <th>FY2012</th>\n",
       "      <th>FY2013</th>\n",
       "      <th>FY2014</th>\n",
       "      <th>FY2015</th>\n",
       "      <th>FY2016</th>\n",
       "      <th>IQ_LTM</th>\n",
       "      <th>IQ_YTD</th>\n",
       "    </tr>\n",
       "  </thead>\n",
       "  <tbody>\n",
       "    <tr>\n",
       "      <th>1</th>\n",
       "      <td>Toyota Motor Corporation (TSE:7203)</td>\n",
       "      <td>TSE:7203</td>\n",
       "      <td>Japan</td>\n",
       "      <td>Asia-Pacific</td>\n",
       "      <td>Automobile Manufacturers</td>\n",
       "      <td>Auto &amp; Transportation</td>\n",
       "      <td>Auto OEM</td>\n",
       "      <td>6570</td>\n",
       "      <td>7135</td>\n",
       "      <td>7882</td>\n",
       "      <td>...</td>\n",
       "      <td>-4559</td>\n",
       "      <td>2967</td>\n",
       "      <td>6855</td>\n",
       "      <td>5554</td>\n",
       "      <td>14402</td>\n",
       "      <td>24304</td>\n",
       "      <td>28196</td>\n",
       "      <td>29175</td>\n",
       "      <td>23022</td>\n",
       "      <td>17809</td>\n",
       "    </tr>\n",
       "    <tr>\n",
       "      <th>2</th>\n",
       "      <td>Volkswagen Aktiengesellschaft (XTRA:VOW3)</td>\n",
       "      <td>XTRA:VOW3</td>\n",
       "      <td>Germany</td>\n",
       "      <td>Europe</td>\n",
       "      <td>Automobile Manufacturers</td>\n",
       "      <td>Auto &amp; Transportation</td>\n",
       "      <td>Auto OEM</td>\n",
       "      <td>2073</td>\n",
       "      <td>3389</td>\n",
       "      <td>2659</td>\n",
       "      <td>...</td>\n",
       "      <td>1328</td>\n",
       "      <td>9481</td>\n",
       "      <td>19952</td>\n",
       "      <td>26874</td>\n",
       "      <td>13102</td>\n",
       "      <td>15597</td>\n",
       "      <td>-1371</td>\n",
       "      <td>0</td>\n",
       "      <td>1808</td>\n",
       "      <td>8600</td>\n",
       "    </tr>\n",
       "    <tr>\n",
       "      <th>12</th>\n",
       "      <td>Daimler AG (XTRA:DAI)</td>\n",
       "      <td>XTRA:DAI</td>\n",
       "      <td>Germany</td>\n",
       "      <td>Europe</td>\n",
       "      <td>Automobile Manufacturers</td>\n",
       "      <td>Auto &amp; Transportation</td>\n",
       "      <td>Auto OEM</td>\n",
       "      <td>2290</td>\n",
       "      <td>8596</td>\n",
       "      <td>10180</td>\n",
       "      <td>...</td>\n",
       "      <td>-2423</td>\n",
       "      <td>6987</td>\n",
       "      <td>8907</td>\n",
       "      <td>8136</td>\n",
       "      <td>10688</td>\n",
       "      <td>10724</td>\n",
       "      <td>13435</td>\n",
       "      <td>13255</td>\n",
       "      <td>13255</td>\n",
       "      <td>13255</td>\n",
       "    </tr>\n",
       "    <tr>\n",
       "      <th>15</th>\n",
       "      <td>General Motors Company (NYSE:GM)</td>\n",
       "      <td>NYSE:GM</td>\n",
       "      <td>United States</td>\n",
       "      <td>NaN</td>\n",
       "      <td>Automobile Manufacturers</td>\n",
       "      <td>Auto &amp; Transportation</td>\n",
       "      <td>Auto OEM</td>\n",
       "      <td>0</td>\n",
       "      <td>0</td>\n",
       "      <td>0</td>\n",
       "      <td>...</td>\n",
       "      <td>103051</td>\n",
       "      <td>7175</td>\n",
       "      <td>9177</td>\n",
       "      <td>-28695</td>\n",
       "      <td>7458</td>\n",
       "      <td>4246</td>\n",
       "      <td>7718</td>\n",
       "      <td>11684</td>\n",
       "      <td>11684</td>\n",
       "      <td>11684</td>\n",
       "    </tr>\n",
       "    <tr>\n",
       "      <th>16</th>\n",
       "      <td>Ford Motor Company (NYSE:F)</td>\n",
       "      <td>NYSE:F</td>\n",
       "      <td>United States</td>\n",
       "      <td>NaN</td>\n",
       "      <td>Automobile Manufacturers</td>\n",
       "      <td>Auto &amp; Transportation</td>\n",
       "      <td>Auto OEM</td>\n",
       "      <td>10939</td>\n",
       "      <td>25396</td>\n",
       "      <td>11026</td>\n",
       "      <td>...</td>\n",
       "      <td>3026</td>\n",
       "      <td>7149</td>\n",
       "      <td>8681</td>\n",
       "      <td>7720</td>\n",
       "      <td>7001</td>\n",
       "      <td>4342</td>\n",
       "      <td>10252</td>\n",
       "      <td>6796</td>\n",
       "      <td>6796</td>\n",
       "      <td>6796</td>\n",
       "    </tr>\n",
       "  </tbody>\n",
       "</table>\n",
       "<p>5 rows × 29 columns</p>\n",
       "</div>"
      ],
      "text/plain": [
       "                                 Company Name Exchange:Ticker        Country  \\\n",
       "1         Toyota Motor Corporation (TSE:7203)        TSE:7203          Japan   \n",
       "2   Volkswagen Aktiengesellschaft (XTRA:VOW3)       XTRA:VOW3        Germany   \n",
       "12                      Daimler AG (XTRA:DAI)        XTRA:DAI        Germany   \n",
       "15           General Motors Company (NYSE:GM)         NYSE:GM  United States   \n",
       "16                Ford Motor Company (NYSE:F)          NYSE:F  United States   \n",
       "\n",
       "          Region          Primary Industry            AV Industry AV Sector  \\\n",
       "1   Asia-Pacific  Automobile Manufacturers  Auto & Transportation  Auto OEM   \n",
       "2         Europe  Automobile Manufacturers  Auto & Transportation  Auto OEM   \n",
       "12        Europe  Automobile Manufacturers  Auto & Transportation  Auto OEM   \n",
       "15           NaN  Automobile Manufacturers  Auto & Transportation  Auto OEM   \n",
       "16           NaN  Automobile Manufacturers  Auto & Transportation  Auto OEM   \n",
       "\n",
       "   FY1997 FY1998 FY1999  ...    FY2009 FY2010 FY2011  FY2012 FY2013 FY2014  \\\n",
       "1    6570   7135   7882  ...     -4559   2967   6855    5554  14402  24304   \n",
       "2    2073   3389   2659  ...      1328   9481  19952   26874  13102  15597   \n",
       "12   2290   8596  10180  ...     -2423   6987   8907    8136  10688  10724   \n",
       "15      0      0      0  ...    103051   7175   9177  -28695   7458   4246   \n",
       "16  10939  25396  11026  ...      3026   7149   8681    7720   7001   4342   \n",
       "\n",
       "   FY2015 FY2016 IQ_LTM IQ_YTD  \n",
       "1   28196  29175  23022  17809  \n",
       "2   -1371      0   1808   8600  \n",
       "12  13435  13255  13255  13255  \n",
       "15   7718  11684  11684  11684  \n",
       "16  10252   6796   6796   6796  \n",
       "\n",
       "[5 rows x 29 columns]"
      ]
     },
     "execution_count": 22,
     "metadata": {},
     "output_type": "execute_result"
    }
   ],
   "source": [
    "df_auto = df[df[\"AV Sector\"] == \"Auto OEM\"]\n",
    "pd.to_numeric(df_auto[\"FY2015\"], downcast='float')\n",
    "df_auto.head()"
   ]
  },
  {
   "cell_type": "code",
   "execution_count": 23,
   "metadata": {
    "collapsed": false
   },
   "outputs": [
    {
     "data": {
      "text/html": [
       "\n",
       "        <iframe\n",
       "            width=\"100%\"\n",
       "            height=\"500\"\n",
       "            src=\"pivottablejs.html\"\n",
       "            frameborder=\"0\"\n",
       "            allowfullscreen\n",
       "        ></iframe>\n",
       "        "
      ],
      "text/plain": [
       "<IPython.lib.display.IFrame at 0x9c8a358>"
      ]
     },
     "execution_count": 23,
     "metadata": {},
     "output_type": "execute_result"
    }
   ],
   "source": [
    "from pivottablejs import pivot_ui\n",
    "pivot_ui(df_auto)"
   ]
  },
  {
   "cell_type": "code",
   "execution_count": null,
   "metadata": {
    "collapsed": true
   },
   "outputs": [],
   "source": []
  }
 ],
 "metadata": {
  "kernelspec": {
   "display_name": "Python 3",
   "language": "python",
   "name": "python3"
  },
  "language_info": {
   "codemirror_mode": {
    "name": "ipython",
    "version": 3
   },
   "file_extension": ".py",
   "mimetype": "text/x-python",
   "name": "python",
   "nbconvert_exporter": "python",
   "pygments_lexer": "ipython3",
   "version": "3.6.0"
  }
 },
 "nbformat": 4,
 "nbformat_minor": 2
}
